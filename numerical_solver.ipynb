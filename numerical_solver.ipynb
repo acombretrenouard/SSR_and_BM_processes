{
 "cells": [
  {
   "cell_type": "markdown",
   "id": "41555998",
   "metadata": {},
   "source": [
    "# Fokker-Planck equation using `sage`\n",
    "\n",
    "We will attempt to resolve (indirectly) the Fokker-Planck equation of the total wealth (see BM2000) using sage.\n",
    "\n",
    "## Reminder of the problem\n",
    "\n",
    "Let $w_i$ be $N$ stochastic processes simulating the wealth of $N$ individuals trading.\n",
    "The trading process is implemented with the following SDEs :\n",
    "$$\\dfrac{\\mathrm{d}w_i}{\\mathrm{d}t} = (\\eta_i - m - \\sigma^2)w_i + J(1-w_i) \\qquad \\forall \\, i \\in \\lbrace 0, 1, ..., N-1 \\rbrace$$\n",
    "where $\\eta_i : t \\mapsto \\eta_i(t)$ is a gaussian white noise of mean $m$ and variance $2\\sigma^2$.\n",
    "\n",
    "These $N$ independent SDEs yield the following Fokker-Planck equations for their probability distribution function $p : w,t \\mapsto p(w,t)$ :\n",
    "$$\\dfrac{\\partial p}{\\partial t} = \\dfrac{\\partial}{\\partial w} \\big[J(w-1) + \\sigma^2w)p\\big] + \\sigma^2\\dfrac{\\partial}{\\partial w} \\left[w\\dfrac{\\partial}{\\partial w} \\big(wp\\big) \\right]$$\n",
    "This equation is a second order partial differential equation.\n",
    "The initial condition can be of the form $p(w,0) = \\delta(1)$ and the boundary condition writes :\n",
    "$$\\forall \\, t > 0, \\qquad \\int_{\\mathbb{R}}p(w,t) \\mathrm{d}w = 1$$\n",
    "and\n",
    "$$\\forall \\, t > 0, w \\in \\mathbb{R}, \\qquad p(w,t) > 0$$"
   ]
  },
  {
   "cell_type": "markdown",
   "id": "13ceeb8c",
   "metadata": {},
   "source": [
    "## Solving\n",
    "\n",
    "We can re-write this equation as :\n",
    "$$\\dfrac{\\partial p}{\\partial t} = (J + 2\\sigma^2)p + \\big[J(w-1) + 4\\sigma^2 w\\big]\\dfrac{\\partial p}{\\partial w} + \\sigma^2 w^2 \\dfrac{\\partial^2 p}{\\partial^2 w}$$\n",
    "\n",
    "### Separable solution\n",
    "If we look for a solution of the form $p(w,t) = A(w)B(t)$ we can write :\n",
    "$$B' - C_0 \\times B = 0$$\n",
    "and\n",
    "$$(J+2\\sigma^2 - C_0)A + \\big[J(w-1) + 4\\sigma^2 w\\big]A' + \\sigma^2 w^2 A'' = 0$$\n",
    "\n",
    "This yields the system :\n",
    "$$\\dfrac{\\mathrm{d}}{\\mathrm{d}w} \\left[ \\begin{array}{c} A \\\\ A' \\end{array} \\right] = \\left[ \\begin{array}{cc} 0 & 1 \\\\ -(J+2\\sigma^2-C_0)/(\\sigma w)^2 & -(J(w-1) + 4\\sigma^2 w)/(\\sigma w)^2 \\end{array} \\right] \\left[ \\begin{array}{c} A \\\\ A' \\end{array} \\right]$$\n",
    "\n",
    "Problem yet :\n",
    "- this is equivalent to multiplying the stationnary solution (known, *c.f.* [01]) by an exponential term. No information is really added,\n",
    "- this scheme cannot enforce both the initial condition and the boundary consitions,\n",
    "- ..."
   ]
  },
  {
   "cell_type": "code",
   "execution_count": 48,
   "id": "ce238372",
   "metadata": {},
   "outputs": [],
   "source": [
    "\"\"\"tries to calcutate the stationnary density of probability of the individual wealth\n",
    "this version works\"\"\"\n",
    "\n",
    "from sage.calculus.desolvers import desolve_system_rk4\n",
    "\n",
    "J = 1\n",
    "sigm = 1\n",
    "\n",
    "w = var('w')\n",
    "\n",
    "# version 1 (FAIL)\n",
    "#A = function('A')(w)\n",
    "#dA = diff(A, w, 1)\n",
    "# version 2\n",
    "A = var('A')\n",
    "dA = var('dA')\n",
    "\n",
    "C = 0.5\n",
    "\n",
    "\"\"\"\n",
    "writing the system for A, dA :\n",
    "dA/dw    =                             0*A +                     1*dA\n",
    "d(dA)/dw = -1/(sigm*w)^2*((J+2*sigm^2-C)*A + (J(1-w) + 4*sigm^2*w)*dA)\n",
    "\"\"\"\n",
    "r1 = dA\n",
    "r2= -1/(sigm*w)^2*((J+2*sigm^2-C)*A + (J*(1-w) + 4*sigm^2*w)*dA)\n",
    "\n",
    "sol = desolve_system_rk4([r1,r2],[A,dA],ics=[10,0.3,-0.1],ivar=w,end_points=1)\n",
    "\n",
    "# plot opt 1\n",
    "Q=[[i,j] for i,j,k in sol]\n",
    "LP=list_plot(Q)\n",
    "\n",
    "# plot opt 2\n",
    "#Q=[[j,k] for i,j,k in sol]\n",
    "#sage: LP=list_plot(Q)"
   ]
  },
  {
   "cell_type": "code",
   "execution_count": 49,
   "id": "3bbd300c",
   "metadata": {},
   "outputs": [
    {
     "data": {
      "image/png": "[encoded data removed]",
      "text/plain": [
       "Graphics object consisting of 1 graphics primitive"
      ]
     },
     "execution_count": 49,
     "metadata": {},
     "output_type": "execute_result"
    }
   ],
   "source": [
    "plot(LP)"
   ]
  },
  {
   "cell_type": "code",
   "execution_count": null,
   "id": "3991fc72",
   "metadata": {},
   "outputs": [],
   "source": []
  },
  {
   "cell_type": "code",
   "execution_count": null,
   "id": "d4124c34",
   "metadata": {},
   "outputs": [],
   "source": []
  },
  {
   "cell_type": "code",
   "execution_count": null,
   "id": "d114d215",
   "metadata": {},
   "outputs": [],
   "source": []
  },
  {
   "cell_type": "code",
   "execution_count": null,
   "id": "fa1beb6c",
   "metadata": {},
   "outputs": [],
   "source": []
  },
  {
   "cell_type": "markdown",
   "id": "4dc7d3e7",
   "metadata": {},
   "source": [
    "## Reference\n",
    "\n",
    "[1] Bouchaud, J.-P., & Me ́zard, M. (2000). Whealth condensation in a simple statistical model of economy. Physica A: Statistical Mechanics and its Applications, 282, 536–545."
   ]
  },
  {
   "cell_type": "code",
   "execution_count": null,
   "id": "2caa1f9e",
   "metadata": {},
   "outputs": [],
   "source": []
  }
 ],
 "metadata": {
  "kernelspec": {
   "display_name": "SageMath 9.5",
   "language": "sage",
   "name": "sagemath-9.5"
  },
  "language_info": {
   "codemirror_mode": {
    "name": "ipython",
    "version": 3
   },
   "file_extension": ".py",
   "mimetype": "text/x-python",
   "name": "python",
   "nbconvert_exporter": "python",
   "pygments_lexer": "ipython3",
   "version": "3.9.9"
  }
 },
 "nbformat": 4,
 "nbformat_minor": 5
}
