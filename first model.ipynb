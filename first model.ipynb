{
 "cells": [
  {
   "cell_type": "markdown",
   "id": "b58a6795",
   "metadata": {},
   "source": [
    "First Model : classical markovian process\n",
    "\n",
    "The goal here is to model a simple markovian process :\n",
    "    - one particle (the sytem)\n",
    "    - 10 states that the system can occupy\n",
    "    - a (stochastic) transition matrix\n",
    "    - discrete time\n",
    "    - UI and diplay capabilities"
   ]
  },
  {
   "cell_type": "code",
   "execution_count": 1,
   "id": "ed86fdab",
   "metadata": {},
   "outputs": [],
   "source": [
    "import numpy as np\n",
    "import matplotlib.pyplot as plt\n",
    "from mpl_toolkits.axes_grid1 import make_axes_locatable # for plt.colorbar axes positionning\n",
    "import os"
   ]
  },
  {
   "cell_type": "markdown",
   "id": "38e44e22",
   "metadata": {},
   "source": [
    "Source code :"
   ]
  },
  {
   "cell_type": "code",
   "execution_count": 2,
   "id": "a272e460",
   "metadata": {},
   "outputs": [],
   "source": [
    "def toCumulative(tab) :\n",
    "    \"\"\"input : 1D array where all value add-up to 1 (only positive)    ex : [0.1, 0.2, 0.15, 0.55]\n",
    "    output : 1D array where these value progressively add-up           ex : [0.1, 0.3, 0.45, 1.0]\"\"\"\n",
    "    for i in range(1,len(tab)) :\n",
    "        tab[i] += tab[i-1]\n",
    "    return tab\n",
    "\n",
    "\n",
    "\n",
    "\n",
    "def buildMatrix(n_states, type='uni') :\n",
    "    \"\"\"builds a stochastic matrix, each coefficient is drawn randomly\n",
    "        uni --> uniformly in [0, 1[\n",
    "        mfd --> mean field (all coef. equal to 1/n_states)\n",
    "        bin --> binomial (1 sample)\n",
    "        pow --> power-tail law (Pareto here)\n",
    "        nrm --> normal law\n",
    "        ssr --> ssr process (with state no <-> energy)\"\"\"\n",
    "    matrix = np.zeros((n_states,n_states), dtype=float)\n",
    "    if type=='ssr' :\n",
    "        for j in range(2,n_states) :\n",
    "            for i in range(j) : # coefficients are non-zero only if i<j\n",
    "                matrix[i,j] = 1/(j-1)\n",
    "        matrix[-1,0] = 1\n",
    "        matrix[0,1] = 1\n",
    "    else :\n",
    "        for j in range(n_states) :\n",
    "            s = 0\n",
    "            for i in range(n_states) :\n",
    "                if   type=='mfd' : rate = 1./n_states\n",
    "                elif type=='uni' : rate = np.random.uniform()\n",
    "                elif type=='bin' : rate = np.random.binomial(1,0.5)\n",
    "                elif type=='pow' : rate = np.random.pareto(0.5)\n",
    "                elif type=='nrm' : rate = np.abs(np.random.normal()) # ! the coefficients must be postive !\n",
    "                else :\n",
    "                    print('DynamicalRule.initialize ERROR : unknown distribution\\n Reminder :\\n    uni --> uniformly in [0, 1[\\n    bin --> binomial (1 sample)\\n    pow --> power-tail law (Pareto here)\\n    nrm --> normal law')\n",
    "                    rate = np.random.uniform()\n",
    "                matrix[i,j] = rate\n",
    "                if i != j : s += rate\n",
    "            matrix[j,j] = - s # s is the sum of all other transition rates : the matrix is thus stochastic\n",
    "    return matrix\n",
    "\n",
    "\n",
    "def loadSim(path=None) :\n",
    "    \"\"\"load a full simulation and returns the object\"\"\"\n",
    "    # getting path\n",
    "    if path == None :\n",
    "        current = os.getcwd()\n",
    "        print('Current directory : ' + current)\n",
    "        path = str(input('\\nEnter path+filename : '))\n",
    "    # loading\n",
    "    data = np.load(path + '_data')\n",
    "    matrix = np.load(path + '_matrix')\n",
    "    meta = np.load(path + '_meta')\n",
    "    start_state, n_jumps = int(meta[0]), int(meta[1])\n",
    "    n_states = np.shape(matrix)[0]\n",
    "    sim = Simulation(n_jumps, n_states)\n",
    "    sim.ag.dynamic.setMatrix(matrix)\n",
    "    sim.data = data\n",
    "    sim.meta = meta\n",
    "    print('\\Sim loaded from :\\n    ' + path.rsplit(sep='/')[-1] + '_data.npy\\n'  + path.rsplit(sep='/')[-1] + '_matrix.npy\\n    ' + path.rsplit(sep='/')[-1] + '_meta.npy' )\n",
    "\n",
    "    return sim\n",
    "\n",
    "def loadInput(path=None) :\n",
    "    # getting path\n",
    "    if path == None :\n",
    "        current = os.getcwd()\n",
    "        print('Current directory : ' + current)\n",
    "        path = str(input('\\nEnter path+filename : '))\n",
    "    # loading\n",
    "    matrix = np.load(path + '_matrix')\n",
    "    meta = np.load(path + '_meta')\n",
    "    start_state, n_jumps = int(meta[0]), int(meta[1])\n",
    "    n_states = np.shape(matrix)[0]\n",
    "    sim = Simulation(n_jumps, n_states)\n",
    "    sim.ag.dynamic.setMatrix(matrix)\n",
    "    sim.meta = meta\n",
    "    print('\\Input loaded from :\\n    ' + path.rsplit(sep='/')[-1] + '_matrix.npy\\n    ' + path.rsplit(sep='/')[-1] + '_meta.npy' )\n",
    "    return sim\n",
    "\n",
    "class DynamicRule:\n",
    "    \"\"\"a class that describe the dynamic rule of a simple 10-state system\"\"\"\n",
    "\n",
    "    def __init__(self, n_states) :\n",
    "        \"\"\"input : number of state the dynamic should include (size of the matrix)\"\"\"\n",
    "        self.n_states = n_states\n",
    "        self.matrix = np.zeros((n_states,n_states), dtype=float)\n",
    "        self.start_state = 0\n",
    "        self.date = 0.\n",
    "        return\n",
    "\n",
    "\n",
    "    def setMatrix(self, matrix) :\n",
    "        if np.shape(matrix)[0] == self.n_states :\n",
    "            self.matrix = matrix\n",
    "        else :\n",
    "            print('DynamicRule.setMatrix ERROR : input matrix of wrong size.\\nMatrix left unchanged.')\n",
    "        return\n",
    "\n",
    "    def buildMatrix(n_states, type='uni') :\n",
    "        \"\"\"builds a stochastic matrix, each coefficient is drawn randomly\n",
    "            uni --> uniformly in [0, 1[\n",
    "            mfd --> mean field (all coef. equal to 1/n_states)\n",
    "            bin --> binomial (1 sample)\n",
    "            pow --> power-tail law (Pareto here)\n",
    "            nrm --> normal law\n",
    "            ssr --> ssr process (with state no <-> energy)\"\"\"\n",
    "        if type=='ssr' :\n",
    "            matrix = np.zeros((n_states,n_states), dtype=float)\n",
    "            for j in range(2,n_states) :\n",
    "                for i in range(j) : # coefficients are non-zero only if i<j\n",
    "                    matrix[i,j] = 1/(j-1)\n",
    "            matrix[-1,0] = 1\n",
    "            matrix[0,1] = 1\n",
    "        else :\n",
    "            for j in range(n_states) :\n",
    "                s = 0\n",
    "                for i in range(n_states) :\n",
    "                    if   type=='mfd' : rate = 1./n_states\n",
    "                    elif type=='uni' : rate = np.random.uniform()\n",
    "                    elif type=='bin' : rate = np.random.binomial(1,0.5)\n",
    "                    elif type=='pow' : rate = np.random.pareto(0.5)\n",
    "                    elif type=='nrm' : rate = np.abs(np.random.normal()) # ! the coefficients must be postive !\n",
    "                    else :\n",
    "                        print('DynamicalRule.initialize ERROR : unknown distribution\\n Reminder :\\n    uni --> uniformly in [0, 1[\\n    bin --> binomial (1 sample)\\n    pow --> power-tail law (Pareto here)\\n    nrm --> normal law')\n",
    "                        rate = np.random.uniform()\n",
    "                    matrix[i,j] = rate\n",
    "                    if i != j : s += rate\n",
    "                matrix[j,j] = - s # s is the sum of all other transition rates : the matrix is thus stochastic\n",
    "        return matrix\n",
    "\n",
    "\n",
    "\n",
    "\n",
    "\n",
    "\n",
    "\n",
    "\n",
    "\n",
    "class Agent:\n",
    "    \"\"\"a class that simulates an agent that evolves accordingly to the markovian dynamic defined by DynamicalRule\"\"\"\n",
    "\n",
    "    def __init__(self, n_states) :\n",
    "        \"\"\"input : number of states modeled by the dynamic\"\"\"\n",
    "        self.dynamic = DynamicRule(n_states)\n",
    "        self.state = self.dynamic.start_state\n",
    "        self.states = [self.state]\n",
    "        self.transition_dates = [0.0]\n",
    "        return\n",
    "\n",
    "    def initialize(self) :\n",
    "        \"\"\"creates the matrix of the dynamic rule\"\"\"\n",
    "        mat = buildMatrix(self.dynamic.n_states, 'uni')\n",
    "        self.dynamic.setMatrix(mat)\n",
    "        return\n",
    "\n",
    "    def doStep(self) :\n",
    "        \"\"\"samples the next state, then sample the time it will take to jump\n",
    "        works also when some coefficient are null\"\"\"\n",
    "        # creating a probability distribution from the rates\n",
    "        rates = list(self.dynamic.matrix[:,self.state])\n",
    "        rates.pop(self.state) # taking the lists of rate(i,i0) only when i != i0\n",
    "        probs = rates/np.sum(rates)\n",
    "        # calculate what will be the next state\n",
    "        ind = np.argwhere(np.random.multinomial(1,probs))[0,0]\n",
    "        if self.state <= ind :\n",
    "            self.state = ind+1\n",
    "        else :\n",
    "            self.state = ind\n",
    "        self.states.append(self.state)\n",
    "        # calculate the time of the transition to that state\n",
    "        delta = np.random.exponential(rates[ind])\n",
    "        self.dynamic.date += delta\n",
    "        self.transition_dates.append(self.dynamic.date)\n",
    "        return\n",
    "\n",
    "\n",
    "\n",
    "\n",
    "\n",
    "\n",
    "\n",
    "\n",
    "\n",
    "\n",
    "\n",
    "\n",
    "\n",
    "\n",
    "\n",
    "class Simulation:\n",
    "\n",
    "    def __init__(self, n_jumps = 20, n_states = 5) :\n",
    "        \"\"\"data and metadata format :\n",
    "        meta = [start state, number of jumps that will be simulated]\n",
    "        data = [[t0=0   , t1     , t2     , ..., t_n    ],\n",
    "                [state_0, state_1, state_2, ..., state_n]]\n",
    "        ! Simulation.ag.dynamic.matrix is also part of the metadata !\"\"\"\n",
    "        self.ag = Agent(n_states)\n",
    "        self.ag.initialize()\n",
    "        self.meta = np.array([0, n_jumps]) # start state and desired length of simulation (in jumps)\n",
    "        self.data = np.zeros((2, n_jumps))\n",
    "        return\n",
    "\n",
    "    def run(self) :\n",
    "        \"\"\"runs the simulation for the indicated number of jumps\"\"\"\n",
    "        n_jumps = self.meta[1]\n",
    "        for i in range(n_jumps) :\n",
    "            self.ag.doStep()\n",
    "        self.data = np.array([self.ag.transition_dates, self.ag.states])\n",
    "        return\n",
    "\n",
    "    def plotHistogram(self, log=False) :\n",
    "        \"\"\"plot the histogram of occupancy in each state\n",
    "        log=True for log-scale\"\"\"\n",
    "        # goes through the trajectory of the system and adds the trappig time at each step to the right bin\n",
    "        hist = np.zeros(self.ag.dynamic.n_states)\n",
    "        current_s = int(self.data[1,0])\n",
    "        for i in range(1,len(self.data[0])) :\n",
    "            hist[current_s] += self.data[0,i]-self.data[0,i-1]\n",
    "            current_s = int(self.data[1,i])\n",
    "        # normalizing\n",
    "        hist = hist/np.sum(hist)\n",
    "        # plotting\n",
    "        Xs = np.arange(self.ag.dynamic.n_states)\n",
    "        plt.bar(Xs, hist)\n",
    "        plt.xlabel('state')\n",
    "        plt.ylabel('relative time spent')\n",
    "        # placing ticks on axes\n",
    "        if self.ag.dynamic.n_states and not log <= 15 :\n",
    "            plt.xticks(Xs)\n",
    "        # setting an eventual log scale\n",
    "        if log :\n",
    "            plt.xscale('log')\n",
    "            plt.yscale('log')\n",
    "        plt.show()\n",
    "        return\n",
    "\n",
    "\n",
    "    def plotTrajectory(self) :\n",
    "        \"\"\"plots the trajectory of the system over the phase space\"\"\"\n",
    "        # building additionnal points (state just before each jump)\n",
    "        l = len(self.data[0])\n",
    "        Xs = np.zeros(2*l)\n",
    "        Ys = np.zeros(2*l)\n",
    "        for i in range(l-1) :\n",
    "            Xs[2*i], Xs[2*i+1] = self.data[0,i], self.data[0,i+1]\n",
    "            Ys[2*i], Ys[2*i+1] = self.data[1,i], self.data[1,i]\n",
    "        i = l-1\n",
    "        Xs[2*i], Xs[2*i+1] = self.data[0,i], self.data[0,i]*1.05\n",
    "        Ys[2*i], Ys[2*i+1] = self.data[1,i], self.data[1,i]\n",
    "        # plotting\n",
    "        plt.plot(Xs, Ys)\n",
    "        plt.xlabel('time')\n",
    "        plt.ylabel('states')\n",
    "        plt.text(0.9*np.amax(Xs), 0.9*np.amax(Ys), str(int(l-1)) + ' jumps')\n",
    "        plt.grid(axis='y')\n",
    "        plt.yticks(np.arange(self.ag.dynamic.n_states))\n",
    "        plt.show()\n",
    "        return\n",
    "\n",
    "    def plotMatrix(self) :\n",
    "        \"\"\"plots the driving matrix of the simulation as a colormap\"\"\"\n",
    "        # show matrix\n",
    "        ax = plt.subplot()\n",
    "        im = ax.matshow(self.ag.dynamic.matrix)\n",
    "        # set colorbar (scale) next to matrix\n",
    "        divider = make_axes_locatable(ax)\n",
    "        cax = divider.append_axes(\"right\", size=\"5%\", pad=0.05)\n",
    "        plt.colorbar(im, cax=cax)\n",
    "        # show\n",
    "        plt.show()\n",
    "        return\n",
    "\n",
    "    def live(self) :\n",
    "        \"\"\"runs the simulation live (interactively)\"\"\"\n",
    "        pass\n",
    "\n",
    "\n",
    "\n",
    "    def saveSim(self, path) :\n",
    "        \"\"\"saves the data, the metadata and the matrix to the path\"\"\"\n",
    "        # getting path\n",
    "        if path == None :\n",
    "            current = os.getcwd()\n",
    "            print('Current directory : ' + current)\n",
    "            path = str(input('\\nEnter path+filename : '))\n",
    "        # saving\n",
    "        np.save(path + '_data', self.data)\n",
    "        np.save(path + '_matrix', self.ag.dynamic.matrix)\n",
    "        np.save(path + '_meta', self.meta)\n",
    "        print('\\Sim saved as :\\n    ' + path.rsplit(sep='/')[-1] + '_data.npy\\n    '+ path.rsplit(sep='/')[-1] + '_matrix.npy\\n    ' + path.rsplit(sep='/')[-1] + '_meta.npy' )\n",
    "\n",
    "        return\n",
    "\n",
    "    def saveInput(self, inpt, path=None) :\n",
    "        \"\"\"saves only the matrix and the metadata\"\"\"\n",
    "        # getting path\n",
    "        if path == None :\n",
    "            current = os.getcwd()\n",
    "            print('Current directory : ' + current)\n",
    "            path = str(input('\\nEnter path+filename : '))\n",
    "        # saving\n",
    "        np.save(path + '_matrix', self.ag.dynamic.matrix)\n",
    "        np.save(path + '_meta', self.meta)\n",
    "        print('\\Input saved as :\\n    ' + path.rsplit(sep='/')[-1] + '_matrix.npy\\n    ' + path.rsplit(sep='/')[-1] + '_meta.npy' )\n",
    "        return"
   ]
  },
  {
   "cell_type": "markdown",
   "id": "a20bf1c1",
   "metadata": {},
   "source": [
    "Testing utilities"
   ]
  },
  {
   "cell_type": "code",
   "execution_count": 3,
   "id": "780a0a98",
   "metadata": {},
   "outputs": [
    {
     "name": "stdout",
     "output_type": "stream",
     "text": [
      "[[-1.61970051  0.45033042  0.77879047  0.57926643  0.9871147 ]\n",
      " [ 0.1693095  -2.18119207  0.21495433  0.92648403  0.8705443 ]\n",
      " [ 0.2169816   0.59719879 -2.63377083  0.57665577  0.53200568]\n",
      " [ 0.81682821  0.55912068  0.65602883 -2.51436103  0.60584091]\n",
      " [ 0.4165812   0.57454217  0.9839972   0.4319548  -2.99550559]]\n"
     ]
    }
   ],
   "source": [
    "# Test 1 : testing DynamicRule\n",
    "dyn = DynamicRule(5)\n",
    "dyn.setMatrix(buildMatrix(5,'uni'))\n",
    "print(dyn.matrix)"
   ]
  },
  {
   "cell_type": "code",
   "execution_count": 4,
   "id": "6bd42251",
   "metadata": {},
   "outputs": [
    {
     "data": {
      "text/plain": [
       "[<matplotlib.lines.Line2D at 0x1164f1ab0>]"
      ]
     },
     "execution_count": 4,
     "metadata": {},
     "output_type": "execute_result"
    },
    {
     "data": {
      "image/png": "[encoded data removed]",
      "text/plain": [
       "<Figure size 432x288 with 1 Axes>"
      ]
     },
     "metadata": {
      "needs_background": "light"
     },
     "output_type": "display_data"
    }
   ],
   "source": [
    "# Test 2 : testing Agent\n",
    "ag = Agent(10)\n",
    "ag.initialize()\n",
    "for i in range(20) :\n",
    "    ag.doStep()\n",
    "plt.plot(ag.transition_dates, ag.states)"
   ]
  },
  {
   "cell_type": "code",
   "execution_count": 5,
   "id": "7f929f8c",
   "metadata": {},
   "outputs": [
    {
     "data": {
      "image/png": "[encoded data removed]",
      "text/plain": [
       "<Figure size 432x288 with 1 Axes>"
      ]
     },
     "metadata": {
      "needs_background": "light"
     },
     "output_type": "display_data"
    }
   ],
   "source": [
    "# Test 3 : testing Simulation.run and Simulation.plotTrajectory\n",
    "sim = Simulation(10)\n",
    "sim.run()\n",
    "sim.plotTrajectory()"
   ]
  },
  {
   "cell_type": "code",
   "execution_count": 6,
   "id": "06adea70",
   "metadata": {},
   "outputs": [
    {
     "data": {
      "image/png": "[encoded data removed]",
      "text/plain": [
       "<Figure size 432x288 with 2 Axes>"
      ]
     },
     "metadata": {
      "needs_background": "light"
     },
     "output_type": "display_data"
    }
   ],
   "source": [
    "# Test 4 : testing Simulation.plotMatrix\n",
    "sim = Simulation(10)\n",
    "sim.plotMatrix()"
   ]
  },
  {
   "cell_type": "code",
   "execution_count": 7,
   "id": "6801aaa2",
   "metadata": {},
   "outputs": [
    {
     "data": {
      "image/png": "[encoded data removed]",
      "text/plain": [
       "<Figure size 432x288 with 2 Axes>"
      ]
     },
     "metadata": {
      "needs_background": "light"
     },
     "output_type": "display_data"
    },
    {
     "data": {
      "image/png": "[encoded data removed]",
      "text/plain": [
       "<Figure size 432x288 with 1 Axes>"
      ]
     },
     "metadata": {
      "needs_background": "light"
     },
     "output_type": "display_data"
    }
   ],
   "source": [
    "# Test 5 : testing Simulation.plotHistogram\n",
    "sim = Simulation(n_jumps=1000, n_states=100)\n",
    "sim.run()\n",
    "sim.plotMatrix()\n",
    "sim.plotHistogram()"
   ]
  },
  {
   "cell_type": "code",
   "execution_count": 8,
   "id": "b48431bf",
   "metadata": {},
   "outputs": [
    {
     "data": {
      "image/png": "[encoded data removed]",
      "text/plain": [
       "<Figure size 432x288 with 2 Axes>"
      ]
     },
     "metadata": {
      "needs_background": "light"
     },
     "output_type": "display_data"
    },
    {
     "data": {
      "image/png": "[encoded data removed]",
      "text/plain": [
       "<Figure size 432x288 with 1 Axes>"
      ]
     },
     "metadata": {
      "needs_background": "light"
     },
     "output_type": "display_data"
    }
   ],
   "source": [
    "# Test 6 : testing re-initialization of a dyamic\n",
    "sim = Simulation(n_jumps=1000, n_states=10)\n",
    "mat = buildMatrix(n_states = 10, type='bin')\n",
    "sim.ag.dynamic.setMatrix(mat)\n",
    "sim.run()\n",
    "sim.plotMatrix()\n",
    "sim.plotHistogram()"
   ]
  },
  {
   "cell_type": "code",
   "execution_count": 9,
   "id": "5e95956f",
   "metadata": {},
   "outputs": [
    {
     "data": {
      "image/png": "[encoded data removed]",
      "text/plain": [
       "<Figure size 432x288 with 2 Axes>"
      ]
     },
     "metadata": {
      "needs_background": "light"
     },
     "output_type": "display_data"
    },
    {
     "data": {
      "image/png": "[encoded data removed]",
      "text/plain": [
       "<Figure size 432x288 with 1 Axes>"
      ]
     },
     "metadata": {
      "needs_background": "light"
     },
     "output_type": "display_data"
    }
   ],
   "source": [
    "# Test 7 : testing different samplings of driving matrix\n",
    "sim = Simulation(n_jumps=1000, n_states=10)\n",
    "mat = buildMatrix(n_states = 10, type='pow')\n",
    "sim.ag.dynamic.setMatrix(mat)\n",
    "sim.run()\n",
    "sim.plotMatrix()\n",
    "sim.plotHistogram()"
   ]
  },
  {
   "cell_type": "code",
   "execution_count": 10,
   "id": "7d00c302",
   "metadata": {
    "scrolled": true
   },
   "outputs": [
    {
     "data": {
      "image/png": "[encoded data removed]",
      "text/plain": [
       "<Figure size 432x288 with 2 Axes>"
      ]
     },
     "metadata": {
      "needs_background": "light"
     },
     "output_type": "display_data"
    },
    {
     "data": {
      "image/png": "[encoded data removed]",
      "text/plain": [
       "<Figure size 432x288 with 1 Axes>"
      ]
     },
     "metadata": {
      "needs_background": "light"
     },
     "output_type": "display_data"
    }
   ],
   "source": [
    "# Test 8 : testing SSR driving matrix and log-scale plotting\n",
    "sim = Simulation(n_jumps=10000, n_states=50)\n",
    "mat = buildMatrix(n_states = 50, type='ssr')\n",
    "sim.ag.dynamic.setMatrix(mat)\n",
    "sim.run()\n",
    "sim.plotMatrix()\n",
    "sim.plotHistogram(log=True)"
   ]
  },
  {
   "cell_type": "code",
   "execution_count": null,
   "id": "543b64e5",
   "metadata": {},
   "outputs": [],
   "source": []
  },
  {
   "cell_type": "code",
   "execution_count": null,
   "id": "31d2600a",
   "metadata": {},
   "outputs": [],
   "source": []
  }
 ],
 "metadata": {
  "kernelspec": {
   "display_name": "Python 3 (ipykernel)",
   "language": "python",
   "name": "python3"
  },
  "language_info": {
   "codemirror_mode": {
    "name": "ipython",
    "version": 3
   },
   "file_extension": ".py",
   "mimetype": "text/x-python",
   "name": "python",
   "nbconvert_exporter": "python",
   "pygments_lexer": "ipython3",
   "version": "3.10.0"
  }
 },
 "nbformat": 4,
 "nbformat_minor": 5
}
