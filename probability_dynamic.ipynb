{
 "cells": [
  {
   "cell_type": "markdown",
   "id": "f27c4771",
   "metadata": {},
   "source": [
    "# Probabilitstic modelling\n",
    "\n",
    "This new notebook will use the same description for all processes (classical Boltzmann-Gibbs equilibrium, Sample-Space Reducing processes, Bouchaud-Mézard processes) than the previous one [ref]. Rather than simulating an agent in a particular state and its jumps between states, only the distribution of states will be described (as it is in a quantum state), with its evolution.\n",
    "\n",
    "> fig : 1/ state(t) = i, tirage v.a. X = (new_state, jump_time) --> state(t+jump_time) = new_state\n",
    ">          loi de v.a. X --> lois exp paramètres 'taux de transition' (dim=temps**-1)\n",
    ">       2/ state(t) = [a1, a2, ..., ad], state(t+dt) = state(t) + Mat.dot(state(t))*dt\n",
    ">          master equation\n",
    "\n",
    "This enables us to use the same description for all upcited models, as well as using non-renormalized states (where the matrix is not stochastic any more, and the total density is more than 1). This is usefull for modelling the BM model as well as variants of the canonical SSR process, and corresponds to probability 'sources' and 'sinks'.\n",
    "\n",
    "> Ex : ajouter du bruit --> norme(state) = exp((m+sgm2)t)\n",
    "\n",
    "Our framework is still the modelling of wealth exchange and inequality among a population.\n",
    "\n",
    "## General description\n",
    "\n",
    "### Formally\n",
    "\n",
    "All models will rely on the same general description.\n",
    "We will study the distribution of a certain quantity $x$ over a finite number of (eingen)states $0, 1, 2, ..., D-1$, and its dynamics. The density vector obeys to a simple first-order linear differential equation, corresponding to the evolution of a Markovian system :\n",
    "$$\\forall \\, i \\in \\lbrace 0, 1, ..., D-1 \\rbrace, \\qquad \\dfrac{\\mathrm{d}x_{i}}{\\mathrm{d}t} = \\sum_{j=0}^{D-1} J_{ij}x_{j}$$\n",
    "This defines the *master equation* for $\\mathbf{X} = (x_i)_{0 \\, \\leqslant \\, i \\, < D}$ and $\\mathbf{J} = (J_{ij})_{0 \\, \\leqslant \\, i,j \\, < \\, D}$ reading :\n",
    "$$\\dfrac{\\mathrm{d}\\mathbf{X}(t)}{\\mathrm{d}t} = \\mathbf{J}(t)\\mathbf{X}(t)$$\n",
    "Here the state is not normalized and no longer represents the density of state of a single-particle), and the matrix $\\mathbf{J}$ is not always stochastic. Also, it is important to note that *both* $\\mathbf{X}$ *and* $\\mathbf{J}$ are dependant of time : $\\mathbf{J}$ can have a noisy component for instance :\n",
    "$$\\mathbf{J}(t) = \\mathbf{J_0} + \\mathbf{\\Xi}(t)$$\n",
    "\n",
    "### Implementation\n",
    "\n",
    "We will have the following correspondance for variable names :\n",
    "- `float x` will be a component $x_i(t)$ of a state in the eigenbasis, \n",
    "- `ndarray state` will be the current (macro)state of the particle $\\mathbf{X}(t)$,\n",
    "- `ndarray states` will be the whole time-dependant state $\\mathbf{X}$ (a function of time),\n",
    "- `int dim` will be the number of dimensions $D$, `int i` and `int j` will be indexes refering to the dimension ($0 \\, \\leqslant \\, i,j \\, < D$), \n",
    "- `int t` will be an index refering to the time coordinate and be comprised in the timeframe $[0 \\,, \\, T[$ (time horizon `int T`),\n",
    "- `ndarray J_0` will be the static component $\\mathbf{J_0}$ of the driving matrix and `ndarray J` will be the full time-dependant matrix $\\mathbf{J}(t)$. Its values at all time $t$ will not be stored,\n",
    "- `ndarray xi` will be the random and time-dependant component $\\mathbf{\\Xi}(t)$ of the driving matrix, and `ndarray xis` will be the whole time-varying function $\\mathbf{\\Xi}$ associated to it,\n",
    "- ..."
   ]
  },
  {
   "cell_type": "markdown",
   "id": "82d83f1a",
   "metadata": {},
   "source": [
    "## The models\n",
    "\n",
    "### The canonical ensemble\n",
    "\n",
    "Lets consider a system of a large number of particles in a box where $D$ energy levels are accessible, at temperature $T$ (`float temp`).\n",
    "\n",
    "A macrostate of the system can be characterized by the (relative) number of particles in each state $i$ at time $t$ :\n",
    "$$\\forall \\, i \\in \\lbrace 0, ..., D-1 \\rbrace, \\qquad x_i(t) = \\dfrac{\\text{# of particles in state }i}{\\text{# of particles}}$$\n",
    "The system will be characterized by its master equation :\n",
    "$$\\forall \\, i \\in \\lbrace 0, ..., D-1 \\rbrace, \\qquad \\dfrac{\\mathrm{d}x_{i}(t)}{\\mathrm{d}t} = \\sum_{j\\neq i} J_{ij}(t)x_{j}(t) - \\sum_{j\\neq i} J_{ji}(t)x_{i}(t)$$\n",
    "\n",
    "Out-of-equilibrium, the system will behave in a complicated manner where each transition rate $J_{ij}(t)$ is not clearly defined, and is mainly driven by the precise interactions of each particles (is a function of $(\\text{# of particles}) \\times D$ parameters).\n",
    "\n",
    "However, at equilibrium the precise distribution of particles in each state $i$ is know, it the *Boltzmann distribution* :\n",
    "$$\\forall \\, i \\in \\lbrace 0, ..., D-1 \\rbrace, \\qquad x_i(t) = \\frac{1}{Z}\\exp\\left(-\\dfrac{E(i)}{k_B T}\\right)$$\n",
    "This distribution is *stationnary*. The transition rates are deduced from the detailed balance :\n",
    "$$\\forall \\, i,j \\in \\lbrace 0, ..., D-1 \\rbrace, i\\neq j, \\qquad J_{ij}x_j = J_{ji}x_i$$\n",
    "With the stochastic condition giving :\n",
    "$$\\forall \\, i \\in \\lbrace 0, ..., D-1 \\rbrace, \\qquad J_{ii} = - \\sum_{j\\neq i} J_{ji}$$\n",
    "\n",
    "Note : it is important to know that the transition rates $J_ij$ are arbitrary : thermal equilibrium can be reached in any state for any kind of *diffusive part* of the dynamic (upper part of $\\mathbf{J})."
   ]
  },
  {
   "cell_type": "markdown",
   "id": "18fcb8f0",
   "metadata": {},
   "source": [
    "### The canonical sample-space reducing (SSR) process\n",
    "\n",
    "to do"
   ]
  },
  {
   "cell_type": "markdown",
   "id": "f9c8ef9b",
   "metadata": {},
   "source": [
    "### The Bouchaud-Mézard model for wealth exchange\n",
    "\n",
    "to do"
   ]
  },
  {
   "cell_type": "code",
   "execution_count": null,
   "id": "c72aba6f",
   "metadata": {},
   "outputs": [],
   "source": []
  },
  {
   "cell_type": "code",
   "execution_count": null,
   "id": "a3a68e9b",
   "metadata": {},
   "outputs": [],
   "source": []
  },
  {
   "cell_type": "code",
   "execution_count": null,
   "id": "297ee6ab",
   "metadata": {},
   "outputs": [],
   "source": []
  },
  {
   "cell_type": "code",
   "execution_count": null,
   "id": "193ed676",
   "metadata": {},
   "outputs": [],
   "source": []
  },
  {
   "cell_type": "code",
   "execution_count": null,
   "id": "7c71f047",
   "metadata": {},
   "outputs": [],
   "source": []
  },
  {
   "cell_type": "code",
   "execution_count": null,
   "id": "6492a5df",
   "metadata": {},
   "outputs": [],
   "source": []
  },
  {
   "cell_type": "markdown",
   "id": "a2a52749",
   "metadata": {},
   "source": [
    "## To do :\n",
    "- add the physical dimensions everyhere (top to bottom),\n",
    "- sort-out the confusion between dimension/state/macrostate/microstate, as well as the confusion between particle/system/etc. In Boltzmann-Gibbs each dimension $i$ is a microstate for each particle, and a state $\\mathbf{X}$ is a macrostate of the whole system. In SSR (or description in *General description*) a dimension $i$ is a macrostate and a state $\\mathbf{X}$ is (yet) the probability distribution of the macrostates for a single particle (change SSR to many particles ??),\n",
    "- ..."
   ]
  },
  {
   "cell_type": "code",
   "execution_count": null,
   "id": "2f8bbab5",
   "metadata": {},
   "outputs": [],
   "source": []
  }
 ],
 "metadata": {
  "kernelspec": {
   "display_name": "Python 3 (ipykernel)",
   "language": "python",
   "name": "python3"
  },
  "language_info": {
   "codemirror_mode": {
    "name": "ipython",
    "version": 3
   },
   "file_extension": ".py",
   "mimetype": "text/x-python",
   "name": "python",
   "nbconvert_exporter": "python",
   "pygments_lexer": "ipython3",
   "version": "3.10.0"
  }
 },
 "nbformat": 4,
 "nbformat_minor": 5
}
