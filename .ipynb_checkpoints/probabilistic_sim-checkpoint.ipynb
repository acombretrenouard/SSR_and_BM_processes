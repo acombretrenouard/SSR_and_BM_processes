{
 "cells": [
  {
   "cell_type": "markdown",
   "id": "35c0615c",
   "metadata": {},
   "source": [
    "# Probabilitstic modelling\n",
    "\n",
    "This new notebook will use the same description for all processes (classical Boltzmann-Gibbs equilibrium, Sample-Space Reducing processes, Bouchaud-Mézard processes) than the previous one [ref]. Rather than simulating an agent in a particular state and its jumps between states, only the distribution of states will be described (as it is in a quantum state), with its evolution.\n",
    "\n",
    "> fig : 1/ state(t) = i, tirage v.a. X = (new_state, jump_time) --> state(t+jump_time) = new_state\n",
    ">          loi de v.a. X --> lois exp paramètres 'taux de transition' (dim=temps**-1)\n",
    ">       2/ state(t) = [a1, a2, ..., ad], state(t+dt) = state(t) + Mat.dot(state(t))*dt\n",
    ">          master equation\n",
    "\n",
    "This allows to use the same description for all upcited models, as well as using non-renormalized dynamics (where the matrix is not stochastic any more). This is usefull for modelling the BM model as well as variants of the canonical SSR process.\n",
    "\n",
    "> Ex : ajouter du bruit --> norme(state) = exp((m+sgm2)t)\n",
    "\n"
   ]
  },
  {
   "cell_type": "code",
   "execution_count": null,
   "id": "360d80b1",
   "metadata": {},
   "outputs": [],
   "source": []
  }
 ],
 "metadata": {
  "kernelspec": {
   "display_name": "Python 3 (ipykernel)",
   "language": "python",
   "name": "python3"
  },
  "language_info": {
   "codemirror_mode": {
    "name": "ipython",
    "version": 3
   },
   "file_extension": ".py",
   "mimetype": "text/x-python",
   "name": "python",
   "nbconvert_exporter": "python",
   "pygments_lexer": "ipython3",
   "version": "3.10.0"
  }
 },
 "nbformat": 4,
 "nbformat_minor": 5
}
