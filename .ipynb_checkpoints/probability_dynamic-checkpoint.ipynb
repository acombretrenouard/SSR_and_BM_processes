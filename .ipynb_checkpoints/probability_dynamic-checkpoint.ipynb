{
 "cells": [
  {
   "cell_type": "markdown",
   "id": "f27c4771",
   "metadata": {},
   "source": [
    "# Probabilitstic modelling\n",
    "\n",
    "This new notebook will use the same description for all processes (classical Boltzmann-Gibbs equilibrium, Sample-Space Reducing processes, Bouchaud-Mézard processes) than the previous one [ref]. Rather than simulating an agent in a particular state and its jumps between states, only the distribution of states will be described (as it is in a quantum state), with its evolution.\n",
    "\n",
    "> fig : 1/ state(t) = i, tirage v.a. X = (new_state, jump_time) --> state(t+jump_time) = new_state\n",
    ">          loi de v.a. X --> lois exp paramètres 'taux de transition' (dim=temps**-1)\n",
    ">       2/ state(t) = [a1, a2, ..., ad], state(t+dt) = state(t) + Mat.dot(state(t))*dt\n",
    ">          master equation\n",
    "\n",
    "This enables us to use the same description for all upcited models, as well as using non-renormalized states (where the matrix is not stochastic any more, and the total density is more than 1). This is usefull for modelling the BM model as well as variants of the canonical SSR process, and corresponds to probability 'sources' and 'sinks'.\n",
    "\n",
    "> Ex : ajouter du bruit --> norme(state) = exp((m+sgm2)t)\n",
    "\n",
    "Our framework is still the modelling of wealth exchange and inequality among a population.\n",
    "\n",
    "## General description\n",
    "\n",
    "### Formally\n",
    "\n",
    "All models will rely on the same general description.\n",
    "We will study the distribution of a certain quantity $x$ over a finite number of (macro)states $0, 1, 2, ..., D-1$, and its dynamics. The density vector obeys to a simple first-order linear differential equation, corresponding to the evolution of a Markovian system :\n",
    "$$\\forall \\, i \\in \\lbrace 0, 1, ..., D-1 \\rbrace, \\qquad \\dfrac{\\mathrm{d}x_{i}}{\\mathrm{d}t} = \\sum_{j=0}^{D-1} J_{ij}x_{j}$$\n",
    "This defines the *master equation* for $\\mathbf{X} = (x_i)_{0 \\, \\leqslant \\, i \\, < D}$ and $\\mathbf{J} = (J_{ij})_{0 \\, \\leqslant \\, i,j \\, < \\, D}$ reading :\n",
    "$$\\dfrac{\\mathrm{d}\\mathbf{X}(t)}{\\mathrm{d}t} = \\mathbf{J}(t)\\mathbf{X}(t)$$\n",
    "Here the state is not normalized and no longer represents the density of state of a single-particle), and the matrix $\\mathbf{J}$ is not always stochastic. Also, it is important to note that *both* $\\mathbf{X}$ *and* $\\mathbf{J}$ are dependant of time : $\\mathbf{J}$ can have a noisy component for instance :\n",
    "$$\\mathbf{J}(t) = \\mathbf{J_0} + \\mathbf{\\Xi}(t)$$\n",
    "\n",
    "### Implementation\n",
    "\n",
    "We will have the following correspondance for variable names :\n",
    "- `float x` will be a component $x_i(t)$ of a state in the eigenbasis, \n",
    "- `ndarray state` will be the current (macro)state of the particle $\\mathbf{X}(t)$,\n",
    "- `ndarray states` will be the whole time-dependant state $\\mathbf{X}$ (a function of time),\n",
    "- `int dim` will be the number of dimensions $D$, `int i` and `int j` will be indexes refering to the dimension ($0 \\, \\leqslant \\, i,j \\, < D$), \n",
    "- `int t` will be an index refering to the time coordinate and be comprised in the timeframe $[0 \\,, \\, T[$ (time horizon `int T`),\n",
    "- `ndarray J_0` will be the static component $\\mathbf{J_0}$ of the driving matrix and `ndarray J` will be the full time-dependant matrix $\\mathbf{J}(t)$. Its values at all time $t$ will not be stored,\n",
    "- `ndarray xi` will be the random and time-dependant component $\\mathbf{\\Xi}(t)$ of the driving matrix, and `ndarray xis` will be the whole time-varying function $\\mathbf{\\Xi}$ associated to it,\n",
    "- ..."
   ]
  },
  {
   "cell_type": "markdown",
   "id": "82d83f1a",
   "metadata": {},
   "source": [
    "## The models\n",
    "\n",
    "### The canonical ensemble\n",
    "\n",
    "Lets consider a system of a large number of particles in a box where $D$ energy levels are accessible, at temperature $T$ (`float temp`).\n",
    "\n",
    "A macrostate of the system can be characterized by the (relative) number of particles in each state $i$ at time $t$ :\n",
    "$$\\forall \\, i \\in \\lbrace 0, ..., D-1 \\rbrace, \\qquad x_i(t) = \\dfrac{\\text{# of particles in state }i}{\\text{# of particles}}$$\n",
    "The system will be characterized by its master equation :\n",
    "$$\\forall \\, i \\in \\lbrace 0, ..., D-1 \\rbrace, \\qquad \\dfrac{\\mathrm{d}x_{i}(t)}{\\mathrm{d}t} = \\sum_{j\\neq i} J_{ij}(t)x_{j}(t) - \\sum_{j\\neq i} J_{ji}(t)x_{i}(t)$$\n",
    "\n",
    "Out-of-equilibrium, the system will behave in a complicated manner where each transition rate $J_{ij}(t)$ is not clearly defined, and is mainly driven by the precise interactions of each particles (is a function of $(\\text{# of particles}) \\times D$ parameters).\n",
    "\n",
    "However, at equilibrium the precise distribution of particles in each state $i$ is know, it the *Boltzmann distribution* :\n",
    "$$\\forall \\, i \\in \\lbrace 0, ..., D-1 \\rbrace, \\qquad x_i(t) = \\frac{1}{Z}\\exp\\left(-\\dfrac{E(i)}{k_B T}\\right)$$\n",
    "This distribution is *stationnary*. The transition rates are deduced from the detailed balance :\n",
    "$$\\forall \\, i,j \\in \\lbrace 0, ..., D-1 \\rbrace, i\\neq j, \\qquad J_{ij}x_j = J_{ji}x_i$$\n",
    "With the stochastic condition giving :\n",
    "$$\\forall \\, i \\in \\lbrace 0, ..., D-1 \\rbrace, \\qquad J_{ii} = - \\sum_{j\\neq i} J_{ji}$$\n",
    "\n",
    "Note : it is important to know that the transition rates $J_ij$ are arbitrary : thermal equilibrium can be reached in any state for any kind of *diffusive part* of the dynamic (upper part of $\\mathbf{J})."
   ]
  },
  {
   "cell_type": "markdown",
   "id": "18fcb8f0",
   "metadata": {},
   "source": [
    "### The canonical sample-space reducing (SSR) process\n",
    "\n",
    "to do"
   ]
  },
  {
   "cell_type": "markdown",
   "id": "f9c8ef9b",
   "metadata": {},
   "source": [
    "### The Bouchaud-Mézard model for wealth exchange\n",
    "\n",
    "to do"
   ]
  },
  {
   "cell_type": "markdown",
   "id": "a56a6067",
   "metadata": {},
   "source": [
    "## The code\n",
    "\n",
    "Imports :"
   ]
  },
  {
   "cell_type": "code",
   "execution_count": 5,
   "id": "449d78ba",
   "metadata": {},
   "outputs": [],
   "source": [
    "import numpy as np\n",
    "import matplotlib.pyplot as plt\n",
    "from mpl_toolkits.axes_grid1 import make_axes_locatable # for plt.colorbar axes positionning"
   ]
  },
  {
   "cell_type": "markdown",
   "id": "0a55e14a",
   "metadata": {},
   "source": [
    "A `buildMatrix` function that encapsulate the dynamic-modelling steps :"
   ]
  },
  {
   "cell_type": "code",
   "execution_count": 6,
   "id": "a3a68e9b",
   "metadata": {},
   "outputs": [],
   "source": [
    "def buildMatrix(dim=10, dyn='uni', param=1.) :\n",
    "    \"\"\"builds a stochastic matrix, corresponding to the specified dynamic (with kwarg. 'dyn')\n",
    "        uni --> uniformly in [0, 1[\n",
    "        mfd --> mean field (all coef. equal to param/n_states, \"param\" is equivalent to \"J\")\n",
    "        bin --> binomial (1 sample with probability param)\n",
    "        pow --> power-tail law (Pareto here)\n",
    "        nrm --> normal law\n",
    "        ssr --> ssr process (with state no <-> energy)\n",
    "        BGe --> Boltzmann-Gibbs equilibrium\"\"\"\n",
    "    matrix = np.zeros((dim,dim), dtype=float)\n",
    "    for j in range(dim) :\n",
    "        s = 0\n",
    "        for i in range(dim) :\n",
    "            rate = 0.\n",
    "            if   dyn=='mfd' : rate = param/dim\n",
    "            elif dyn=='uni' : rate = np.random.uniform()\n",
    "            elif dyn=='bin' : rate = np.random.binomial(1,param)\n",
    "            elif dyn=='pow' : rate = np.random.pareto(param)\n",
    "            elif dyn=='nrm' : rate = np.abs(np.random.normal()) # ! the coefficients must be postive !\n",
    "            elif dyn=='ssr' :\n",
    "                if i<j : rate = 1/j\n",
    "                elif (i==dim-1 and j==0) : rate=1\n",
    "            elif dyn=='BGe' : print('ERROR buildMatrix : dyn BGe not done yet')\n",
    "            else :\n",
    "                print('DynamicalRule.initialize ERROR : unknown distribution, uniform used instead\\n Reminder :\\n    uni --> uniformly in [0, 1[\\n    bin --> binomial (1 sample)\\n    pow --> power-tail law (Pareto here)\\n    nrm --> normal law')\n",
    "                rate = np.random.uniform()\n",
    "            matrix[i,j] = rate\n",
    "            if i != j : s += rate\n",
    "        matrix[j,j] = - s # s is the sum of all other transition rates : the matrix is thus stochastic\n",
    "    return matrix"
   ]
  },
  {
   "cell_type": "markdown",
   "id": "4852f17e",
   "metadata": {},
   "source": [
    "A class that defines a dynamical system with a macrostate distribution function and a master equation :\n",
    "$$\\forall \\, i \\in \\lbrace 0, ..., D-1 \\rbrace, \\qquad \\dfrac{\\mathrm{d}x_{i}(t)}{\\mathrm{d}t} = \\sum_{j\\neq i} J_{ij}(t)x_{j}(t) - \\sum_{j\\neq i} J_{ji}(t)x_{i}(t)$$\n",
    "\n",
    "The class `System` will contain :\n",
    "- `int System.t` the current at which the system is located (start time is by default $0$),\n",
    "- `int System.T` the max time,\n",
    "- `int System.dim` the number of macrostates that exists (the number of *dimensions* of the phase-space,\n",
    "- `ndarray System.state` the distribution over the macrostates (`dim` coordinates),\n",
    "- `ndarray System.states` the stored values of this state for all timestep from beginning of simulation to current time,\n",
    "- `str System.dyn` a string indicating the dynamic, to be input in the `buildMatrix` function,\n",
    "- `bool System.noisy` which indicates if the dynamic needs to call the `System.noise` function,\n",
    "- `ndarray System.J_0` the constant component of the matrix corresponding to the master equation,\n",
    "- `function System.noise` the function generating the random process eventually added to the driving matrix,\n",
    "- `ndarray System.xi` the value taken by the random process at each timestep (vector value),\n",
    "- `ndarray System.xis` the stored values of the random process,\n",
    "- `dict System.analysis` a collection of all calculated data from this system,\n",
    "- ..."
   ]
  },
  {
   "cell_type": "code",
   "execution_count": 28,
   "id": "193ed676",
   "metadata": {},
   "outputs": [],
   "source": [
    "class System:\n",
    "    \"\"\"defines a dynamical system with a macrostate distribution function and a first-order linear master equation\"\"\"\n",
    "    \n",
    "    def __init__(self) :\n",
    "        self.t = 0\n",
    "        self.T = 100\n",
    "        self.dim = 5\n",
    "        self.state = np.zeros(self.dim, dtype='float')\n",
    "        self.state[0] += 1.\n",
    "        self.states = np.zeros((self.dim, self.T))\n",
    "        self.states[:,0] = self.state # storage\n",
    "        self.dyn = 'ssr'\n",
    "        self.noisy = False\n",
    "        self.J_0 = buildMatrix(dim=self.dim, dyn=self.dyn, param=1.)\n",
    "        self.noise = lambda : np.zeros((self.dim, self.dim))\n",
    "        self.xi = np.zeros((self.dim, self.dim))\n",
    "        self.xis = np.zeros((self.dim, self.dim, self.T)) # storage\n",
    "        self.analysis = dict()\n",
    "        return\n",
    "    \n",
    "    def reset(self) :\n",
    "        \"\"\"erases all storage variables as well as System.state\"\"\"\n",
    "        self.t = 0\n",
    "        self.state = np.zeros(self.dim, dtype='float')\n",
    "        self.state[0] += 1.\n",
    "        self.states = np.zeros((self.dim, self.T))\n",
    "        self.states[:,0] = self.state # storage\n",
    "        self.xi = np.zeros((self.dim, self.dim))\n",
    "        self.xis = np.zeros((self.dim, self.dim, self.T)) # storage\n",
    "        self.analysis = dict()\n",
    "        return\n",
    "    \n",
    "    def doStep(self) :\n",
    "        if self.noisy :\n",
    "            self.xi = self.noise()\n",
    "            self.xis[:,:,self.t] = self.xi # storage\n",
    "            J = self.J_0 + self.xi\n",
    "        else :\n",
    "            J = self.J_0\n",
    "        self.state += np.dot(J, self.state) # here dt = 1.\n",
    "        self.states[:,self.t] = self.state # storage\n",
    "        self.t += 1\n",
    "        return\n",
    "    \n",
    "    def run(self) :\n",
    "        self.t = 1\n",
    "        while self.t < self.T :\n",
    "            self.doStep()\n",
    "        return\n",
    "    \n",
    "    def plotState(self, log=False) :\n",
    "        \"\"\"plots the current state (from self.state)\"\"\"\n",
    "        Xs = np.arange(self.dim)\n",
    "        wdth = np.zeros(self.dim)+0.5\n",
    "        if log :\n",
    "            Xs += 1\n",
    "            plt.xscale('log')\n",
    "            plt.yscale('log')\n",
    "            wdth = 0.05*Xs\n",
    "        # plotting\n",
    "        plt.bar(Xs, self.state, width=wdth)\n",
    "        plt.xlabel('state coordinates')\n",
    "        plt.ylabel('density (not norm.)')\n",
    "        # placing ticks on axes\n",
    "        if self.dim <= 15 and not log :\n",
    "            plt.xticks(Xs)\n",
    "        # setting an eventual log scale\n",
    "        plt.show()\n",
    "        pass\n",
    "    \n",
    "    def animateState(self) :\n",
    "        \"\"\"plots all the states stored in self.states in an animation\"\"\"\n",
    "        pass\n",
    "    \n",
    "    def plotMatrix(self) :\n",
    "        \"\"\"plots the driving matrix stored in self.J_0\"\"\"\n",
    "        # show matrix\n",
    "        ax = plt.subplot()\n",
    "        im = ax.matshow(self.J_0)\n",
    "        # set colorbar (scale) next to matrix\n",
    "        divider = make_axes_locatable(ax)\n",
    "        cax = divider.append_axes(\"right\", size=\"5%\", pad=0.05)\n",
    "        plt.colorbar(im, cax=cax)\n",
    "        # show\n",
    "        plt.show()\n",
    "        return\n",
    "    \n",
    "    \n",
    "    \n",
    "    "
   ]
  },
  {
   "cell_type": "markdown",
   "id": "d2d6d680",
   "metadata": {},
   "source": [
    "### Tests"
   ]
  },
  {
   "cell_type": "code",
   "execution_count": 29,
   "id": "6492a5df",
   "metadata": {},
   "outputs": [
    {
     "name": "stdout",
     "output_type": "stream",
     "text": [
      "5\n",
      "[1. 0. 0. 0. 0.]\n",
      "[[-1.          1.          0.5         0.33333333  0.25      ]\n",
      " [ 0.         -1.          0.5         0.33333333  0.25      ]\n",
      " [ 0.          0.         -1.          0.33333333  0.25      ]\n",
      " [ 0.          0.          0.         -1.          0.25      ]\n",
      " [ 1.          0.          0.          0.         -1.        ]]\n",
      "False\n",
      "<bound method System.run of <__main__.System object at 0x10862a410>>\n"
     ]
    },
    {
     "data": {
      "image/png": "[encoded data removed]",
      "text/plain": [
       "<Figure size 432x288 with 2 Axes>"
      ]
     },
     "metadata": {
      "needs_background": "light"
     },
     "output_type": "display_data"
    }
   ],
   "source": [
    "# test 1 : building a 'System' object\n",
    "\n",
    "%matplotlib inline\n",
    "\n",
    "syst = System()\n",
    "print(syst.dim)\n",
    "print(syst.state)\n",
    "print(syst.J_0)\n",
    "print(syst.noisy)\n",
    "print(syst.run)\n",
    "syst.plotMatrix()"
   ]
  },
  {
   "cell_type": "code",
   "execution_count": 30,
   "id": "8774340b",
   "metadata": {},
   "outputs": [
    {
     "name": "stdout",
     "output_type": "stream",
     "text": [
      "state at t=0 :  [1. 0. 0. 0. 0.]\n",
      "state at t=1 :  [0. 0. 0. 0. 1.]\n",
      "state at t=2 :  [0.25 0.25 0.25 0.25 0.  ]\n",
      "state at t=3 :  [0.45833333 0.20833333 0.08333333 0.         0.25      ]\n",
      "state at t=4 :  [0.3125     0.10416667 0.0625     0.0625     0.45833333]\n",
      ".after reset :  [1. 0. 0. 0. 0.]\n",
      "...after run :  [0.32432432 0.16216216 0.10810811 0.08108108 0.32432432]\n",
      "state at t=4 :  [0.3125     0.10416667 0.0625     0.0625     0.45833333]\n"
     ]
    },
    {
     "data": {
      "image/png": "[encoded data removed]",
      "text/plain": [
       "<Figure size 432x288 with 1 Axes>"
      ]
     },
     "metadata": {
      "needs_background": "light"
     },
     "output_type": "display_data"
    }
   ],
   "source": [
    "# test 2 : System.doStep(), System.reset(), System.run(), syst.plotState()\n",
    "\n",
    "syst = System()\n",
    "for i in range(5) :\n",
    "    print('state at t=%i : '%i, syst.state)\n",
    "    syst.doStep()\n",
    "syst.reset()\n",
    "print('.after reset : ', syst.state)\n",
    "syst.run()\n",
    "print('...after run : ', syst.state)\n",
    "print('state at t=4 : ', syst.states[:,4])\n",
    "syst.plotState()"
   ]
  },
  {
   "cell_type": "code",
   "execution_count": null,
   "id": "beabee1a",
   "metadata": {},
   "outputs": [],
   "source": []
  },
  {
   "cell_type": "markdown",
   "id": "a2a52749",
   "metadata": {},
   "source": [
    "## To do :\n",
    "- add the physical dimensions everyhere (top to bottom),\n",
    "- sort-out the confusion between dimension/state/macrostate/microstate, as well as the confusion between particle/system/etc. In Boltzmann-Gibbs each dimension $i$ is a microstate for each particle, and a state $\\mathbf{X}$ is a macrostate of the whole system. In SSR (or description in *General description*) a dimension $i$ is a macrostate and a state $\\mathbf{X}$ is (yet) the probability distribution of the macrostates for a single particle (change SSR to many particles ??),\n",
    "- ..."
   ]
  },
  {
   "cell_type": "code",
   "execution_count": 9,
   "id": "2f8bbab5",
   "metadata": {},
   "outputs": [
    {
     "data": {
      "text/plain": [
       "0"
      ]
     },
     "execution_count": 9,
     "metadata": {},
     "output_type": "execute_result"
    }
   ],
   "source": [
    "a = lambda : 0\n",
    "a()"
   ]
  },
  {
   "cell_type": "code",
   "execution_count": null,
   "id": "19ec22c5",
   "metadata": {},
   "outputs": [],
   "source": []
  }
 ],
 "metadata": {
  "kernelspec": {
   "display_name": "Python 3 (ipykernel)",
   "language": "python",
   "name": "python3"
  },
  "language_info": {
   "codemirror_mode": {
    "name": "ipython",
    "version": 3
   },
   "file_extension": ".py",
   "mimetype": "text/x-python",
   "name": "python",
   "nbconvert_exporter": "python",
   "pygments_lexer": "ipython3",
   "version": "3.10.0"
  }
 },
 "nbformat": 4,
 "nbformat_minor": 5
}
