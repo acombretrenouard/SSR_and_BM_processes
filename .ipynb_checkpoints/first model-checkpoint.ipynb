{
 "cells": [
  {
   "cell_type": "markdown",
   "id": "b58a6795",
   "metadata": {},
   "source": [
    "# First Model\n",
    "\n",
    "The goal here is to model an agent following a stochastic or non-stochastic dynamic within a phase space of `n_states`states.\n",
    "The code should be able to :\n",
    "* simulate a trajectory within the phase-space,\n",
    "* calculate the occupancy distribution of each state,\n",
    "* simulate multiple particle,\n",
    "\n",
    "It should also support some basic features, such as :\n",
    "\n",
    "* saving, loading the results of a simulation,\n",
    "* run multiple simulations from an input file,\n",
    "* basic plotting and handling capabilities to have a user-friendly interface."
   ]
  },
  {
   "cell_type": "markdown",
   "id": "585e767e",
   "metadata": {},
   "source": [
    "## Imports"
   ]
  },
  {
   "cell_type": "code",
   "execution_count": 21,
   "id": "ed86fdab",
   "metadata": {},
   "outputs": [],
   "source": [
    "\n",
    "import numpy as np\n",
    "import matplotlib.pyplot as plt\n",
    "from mpl_toolkits.axes_grid1 import make_axes_locatable # for plt.colorbar axes positionning\n",
    "import os"
   ]
  },
  {
   "cell_type": "markdown",
   "id": "38e44e22",
   "metadata": {},
   "source": [
    "## Implementing the dynamics of the system\n",
    "\n",
    "The dynamic of our agent is markovian : it only depends on its current state. The way it behave depends of the transition rates from a state `i` to a state `j`, and is probabilistic. The first step is to establish these rates, with a matrix.\n",
    "\n",
    "This is the purpose of the object `DynamicalRule`. It stores :\n",
    "- the number of state (`int`) : `n_states`,\n",
    "- the transition matrix (`ndarray`) : `matrix`,\n",
    "- WRONG the starting state (`int`) : `start_state`,\n",
    "- WRONG the current date (`float`) : `date`.\n",
    "\n",
    "The method `DynamicalRule.setMatrix` allows to **input** the desired transition matrix.\n",
    "\n",
    "\n",
    "*Remark : this class could be merged with `Simulation`.*"
   ]
  },
  {
   "cell_type": "code",
   "execution_count": 102,
   "id": "a272e460",
   "metadata": {},
   "outputs": [],
   "source": [
    "class DynamicRule:\n",
    "    \"\"\"a class that describe the dynamic rule of a simple dicrete-state system\"\"\"\n",
    "    \n",
    "    def __init__(self, n_states) :\n",
    "        \"\"\"input : number of state the dynamic should include (size of the matrix)\"\"\"\n",
    "        self.n_states = n_states\n",
    "        self.matrix = np.zeros((n_states,n_states), dtype=float)\n",
    "        self.start_state = 0\n",
    "        self.date = 0.\n",
    "        return\n",
    "\n",
    "\n",
    "    def setMatrix(self, matrix) :\n",
    "        if np.shape(matrix)[0] == self.n_states :\n",
    "            self.matrix = matrix\n",
    "        else :\n",
    "            print('DynamicRule.setMatrix ERROR : input matrix of wrong size.\\nMatrix left unchanged.')\n",
    "        return"
   ]
  },
  {
   "cell_type": "markdown",
   "id": "efb1499b",
   "metadata": {},
   "source": [
    "## Implementing an agent :\n",
    "\n",
    "The agent will be represented by the class `Agent`.\n",
    "It stores :\n",
    "- a `DynamicRule` object that defines the dynamical rule this agent follows : `Agent.dynamic`,\n",
    "- a state in which the agent is (`int`) : `Agent.state`,\n",
    "- the list of all previous states (`list`) : `Agent.states`,\n",
    "- the dates of all transitions from one state to another (`list`) : `Agent.transition_dates`.\n",
    "\n",
    "The methods `doStep` advances the agent to the next step it will transition to, and calculate the time it will take to jump (these two values follow a precise probability).\n",
    "The methods `initialize` is useless."
   ]
  },
  {
   "cell_type": "code",
   "execution_count": 103,
   "id": "bbda236c",
   "metadata": {},
   "outputs": [],
   "source": [
    "class Agent:\n",
    "    \"\"\"a class that simulates an agent that evolves accordingly to the markovian dynamic defined by DynamicalRule\"\"\"\n",
    "\n",
    "    def __init__(self, n_states) :\n",
    "        \"\"\"input : number of states modeled by the dynamic\"\"\"\n",
    "        self.dynamic = DynamicRule(n_states)\n",
    "        self.state = self.dynamic.start_state\n",
    "        self.states = [self.state]\n",
    "        self.transition_dates = [0.0]\n",
    "        return\n",
    "\n",
    "    def initialize(self) :\n",
    "        \"\"\"creates the matrix of the dynamic rule\n",
    "        USELESS\"\"\"\n",
    "        mat = buildMatrix(self.dynamic.n_states, 'uni')\n",
    "        self.dynamic.setMatrix(mat)\n",
    "        return\n",
    "\n",
    "    def doStep(self) :\n",
    "        \"\"\"samples the next state, then sample the time it will take to jump\n",
    "        works also when some coefficient are null\"\"\"\n",
    "        # creating a probability distribution from the rates\n",
    "        rates = list(self.dynamic.matrix[:,self.state])\n",
    "        rates.pop(self.state) # taking the lists of rate(i,i0) only when i != i0\n",
    "        if np.sum(rates) == 0. : # if this state is unescapable\n",
    "            self.states.append(self.state)\n",
    "            self.dynamic.date += 1.\n",
    "            self.transition_dates.append(self.dynamic.date)\n",
    "        else :\n",
    "            probs = rates/np.sum(rates)\n",
    "            # calculate what will be the next state\n",
    "            ind = np.argwhere(np.random.multinomial(1,probs))[0,0]\n",
    "            if self.state <= ind :\n",
    "                self.state = ind+1\n",
    "            else :\n",
    "                self.state = ind\n",
    "            self.states.append(self.state)\n",
    "            # calculate the time of the transition to that state\n",
    "            delta = np.random.exponential(rates[ind])\n",
    "            self.dynamic.date += delta\n",
    "            self.transition_dates.append(self.dynamic.date)\n",
    "        return"
   ]
  },
  {
   "cell_type": "markdown",
   "id": "7caa0f21",
   "metadata": {},
   "source": [
    "## Simulation bench\n",
    "\n",
    "*insert description*"
   ]
  },
  {
   "cell_type": "code",
   "execution_count": 160,
   "id": "6770a459",
   "metadata": {},
   "outputs": [],
   "source": [
    "class Simulation:\n",
    "\n",
    "    def __init__(self, n_jumps = 20, n_states = 5) :\n",
    "        \"\"\"data and metadata format :\n",
    "        meta = [start state, number of jumps that will be simulated]\n",
    "        data = [[t0=0   , t1     , t2     , ..., t_n    ],\n",
    "                [state_0, state_1, state_2, ..., state_n]]\n",
    "        ! Simulation.ag.dynamic.matrix is also part of the metadata !\"\"\"\n",
    "        self.ag = Agent(n_states)\n",
    "        self.ag.initialize()\n",
    "        self.meta = np.array([0, n_jumps]) # start state and desired length of simulation (in jumps)\n",
    "        self.data = np.zeros((2, n_jumps))\n",
    "        return\n",
    "\n",
    "    def run(self) :\n",
    "        \"\"\"runs the simulation for the indicated number of jumps\"\"\"\n",
    "        n_jumps = self.meta[1]\n",
    "        for i in range(n_jumps) :\n",
    "            self.ag.doStep()\n",
    "        self.data = np.array([self.ag.transition_dates, self.ag.states])\n",
    "        return\n",
    "\n",
    "    def plotHistogram(self, log=False) :\n",
    "        \"\"\"plot the histogram of occupancy in each state\n",
    "        log=True for log-scale\"\"\"\n",
    "        # goes through the trajectory of the system and adds the trappig time at each step to the right bin\n",
    "        hist = np.zeros(self.ag.dynamic.n_states)\n",
    "        current_s = int(self.data[1,0])\n",
    "        for i in range(1,len(self.data[0])) :\n",
    "            hist[current_s] += self.data[0,i]-self.data[0,i-1]\n",
    "            current_s = int(self.data[1,i])\n",
    "        # normalizing\n",
    "        hist = hist/np.sum(hist)\n",
    "        # handling (log) scale\n",
    "        Xs = np.arange(self.ag.dynamic.n_states)\n",
    "        wdth = np.zeros(self.ag.dynamic.n_states)+0.3\n",
    "        if log :\n",
    "            Xs += 1\n",
    "            plt.xscale('log')\n",
    "            plt.yscale('log')\n",
    "            wdth = 0.05*Xs\n",
    "        # plotting\n",
    "        plt.bar(Xs, hist, width=wdth)\n",
    "        plt.xlabel('state')\n",
    "        plt.ylabel('relative time spent')\n",
    "        # placing ticks on axes\n",
    "        if self.ag.dynamic.n_states and not log <= 15 :\n",
    "            plt.xticks(Xs)\n",
    "        # setting an eventual log scale\n",
    "        plt.show()\n",
    "        return\n",
    "\n",
    "\n",
    "    def plotTrajectory(self) :\n",
    "        \"\"\"plots the trajectory of the system over the phase space\"\"\"\n",
    "        # building additionnal points (state just before each jump)\n",
    "        l = len(self.data[0])\n",
    "        Xs = np.zeros(2*l)\n",
    "        Ys = np.zeros(2*l)\n",
    "        for i in range(l-1) :\n",
    "            Xs[2*i], Xs[2*i+1] = self.data[0,i], self.data[0,i+1]\n",
    "            Ys[2*i], Ys[2*i+1] = self.data[1,i], self.data[1,i]\n",
    "        i = l-1\n",
    "        Xs[2*i], Xs[2*i+1] = self.data[0,i], self.data[0,i]*1.05\n",
    "        Ys[2*i], Ys[2*i+1] = self.data[1,i], self.data[1,i]\n",
    "        # plotting\n",
    "        plt.plot(Xs, Ys)\n",
    "        plt.xlabel('time')\n",
    "        plt.ylabel('states')\n",
    "        plt.text(0.9*np.amax(Xs), 0.9*np.amax(Ys), str(int(l-1)) + ' jumps')\n",
    "        plt.grid(axis='y')\n",
    "        plt.yticks(np.arange(self.ag.dynamic.n_states))\n",
    "        plt.show()\n",
    "        return\n",
    "\n",
    "    def plotMatrix(self) :\n",
    "        \"\"\"plots the driving matrix of the simulation as a colormap\"\"\"\n",
    "        # show matrix\n",
    "        ax = plt.subplot()\n",
    "        im = ax.matshow(self.ag.dynamic.matrix)\n",
    "        # set colorbar (scale) next to matrix\n",
    "        divider = make_axes_locatable(ax)\n",
    "        cax = divider.append_axes(\"right\", size=\"5%\", pad=0.05)\n",
    "        plt.colorbar(im, cax=cax)\n",
    "        # show\n",
    "        plt.show()\n",
    "        return\n",
    "\n",
    "    def live(self) :\n",
    "        \"\"\"runs the simulation live (interactively)\"\"\"\n",
    "        pass\n",
    "\n",
    "\n",
    "\n",
    "    def saveSim(self, path) :\n",
    "        \"\"\"saves the data, the metadata and the matrix to the path\"\"\"\n",
    "        # getting path\n",
    "        if path == None :\n",
    "            current = os.getcwd()\n",
    "            print('Current directory : ' + current)\n",
    "            path = str(input('\\nEnter path+filename : '))\n",
    "        # saving\n",
    "        np.save(path + '_data', self.data)\n",
    "        np.save(path + '_matrix', self.ag.dynamic.matrix)\n",
    "        np.save(path + '_meta', self.meta)\n",
    "        print('\\Sim saved as :\\n    ' + path.rsplit(sep='/')[-1] + '_data.npy\\n    '+ path.rsplit(sep='/')[-1] + '_matrix.npy\\n    ' + path.rsplit(sep='/')[-1] + '_meta.npy' )\n",
    "\n",
    "        return\n",
    "\n",
    "    def saveInput(self, inpt, path=None) :\n",
    "        \"\"\"saves only the matrix and the metadata\"\"\"\n",
    "        # getting path\n",
    "        if path == None :\n",
    "            current = os.getcwd()\n",
    "            print('Current directory : ' + current)\n",
    "            path = str(input('\\nEnter path+filename : '))\n",
    "        # saving\n",
    "        np.save(path + '_matrix', self.ag.dynamic.matrix)\n",
    "        np.save(path\n",
    "            + '_meta', self.meta)\n",
    "        print('\\Input saved as :\\n    ' + path.rsplit(sep='/')[-1] + '_matrix.npy\\n    ' + path.rsplit(sep='/')[-1] + '_meta.npy' )\n",
    "        return"
   ]
  },
  {
   "cell_type": "markdown",
   "id": "426e67de",
   "metadata": {},
   "source": [
    "## Utilities\n",
    "\n",
    "Some utility function that can exist outside the previous classes :\n",
    "- `buildMatrix` builds transition matrix corresponding to the desired dynamic (random matrices, SSR...),\n",
    "- `loadSim` returns a `Simulation` object from a set of file storing the input *and* data,\n",
    "- `loadInput` returns a `Simulation` object from a set of file describing the input (matrix and metadata)."
   ]
  },
  {
   "cell_type": "code",
   "execution_count": 45,
   "id": "a8da5eb0",
   "metadata": {},
   "outputs": [],
   "source": [
    "def buildMatrix(n_states, type='uni') :\n",
    "    \"\"\"builds a stochastic matrix, each coefficient is drawn randomly\n",
    "        uni --> uniformly in [0, 1[\n",
    "        mfd --> mean field (all coef. equal to 1/n_states)\n",
    "        bin --> binomial (1 sample)\n",
    "        pow --> power-tail law (Pareto here)\n",
    "        nrm --> normal law\n",
    "        ssr --> ssr process (with state no <-> energy)\n",
    "        BGe --> Boltzmann-Gibbs equilibrium\"\"\"\n",
    "    matrix = np.zeros((n_states,n_states), dtype=float)\n",
    "    if type=='ssr' :\n",
    "        for j in range(2,n_states) :\n",
    "            for i in range(j) : # coefficients are non-zero only if i<j\n",
    "                matrix[i,j] = 1/(j-1)\n",
    "        matrix[-1,0] = 1\n",
    "        matrix[0,1] = 1\n",
    "    else :\n",
    "        for j in range(n_states) :\n",
    "            s = 0\n",
    "            for i in range(n_states) :\n",
    "                if   type=='mfd' : rate = 1./n_states\n",
    "                elif type=='uni' : rate = np.random.uniform()\n",
    "                elif type=='bin' : rate = np.random.binomial(1,0.5)\n",
    "                elif type=='pow' : rate = np.random.pareto(0.5)\n",
    "                elif type=='nrm' : rate = np.abs(np.random.normal()) # ! the coefficients must be postive !\n",
    "                elif type=='BGe' : rate = BG_rate(i,j)\n",
    "                else :\n",
    "                    print('DynamicalRule.initialize ERROR : unknown distribution\\n Reminder :\\n    uni --> uniformly in [0, 1[\\n    bin --> binomial (1 sample)\\n    pow --> power-tail law (Pareto here)\\n    nrm --> normal law')\n",
    "                    rate = np.random.uniform()\n",
    "                matrix[i,j] = rate\n",
    "                if i != j : s += rate\n",
    "            matrix[j,j] = - s # s is the sum of all other transition rates : the matrix is thus stochastic\n",
    "    return matrix\n",
    "\n",
    "\n",
    "def loadSim(path=None) :\n",
    "    \"\"\"load a full simulation and returns the object\"\"\"\n",
    "    # getting path\n",
    "    if path == None :\n",
    "        current = os.getcwd()\n",
    "        print('Current directory : ' + current)\n",
    "        path = str(input('\\nEnter path+filename : '))\n",
    "    # loading\n",
    "    data = np.load(path + '_data')\n",
    "    matrix = np.load(path + '_matrix')\n",
    "    meta = np.load(path + '_meta')\n",
    "    start_state, n_jumps = int(meta[0]), int(meta[1])\n",
    "    n_states = np.shape(matrix)[0]\n",
    "    sim = Simulation(n_jumps, n_states)\n",
    "    sim.ag.dynamic.setMatrix(matrix)\n",
    "    sim.data = data\n",
    "    sim.meta = meta\n",
    "    print('\\Sim loaded from :\\n    ' + path.rsplit(sep='/')[-1] + '_data.npy\\n'  + path.rsplit(sep='/')[-1] + '_matrix.npy\\n    ' + path.rsplit(sep='/')[-1] + '_meta.npy' )\n",
    "\n",
    "    return sim\n",
    "\n",
    "def loadInput(path=None) :\n",
    "    # getting path\n",
    "    if path == None :\n",
    "        current = os.getcwd()\n",
    "        print('Current directory : ' + current)\n",
    "        path = str(input('\\nEnter path+filename : '))\n",
    "    # loading\n",
    "    matrix = np.load(path + '_matrix')\n",
    "    meta = np.load(path + '_meta')\n",
    "    start_state, n_jumps = int(meta[0]), int(meta[1])\n",
    "    n_states = np.shape(matrix)[0]\n",
    "    sim = Simulation(n_jumps, n_states)\n",
    "    sim.ag.dynamic.setMatrix(matrix)\n",
    "    sim.meta = meta\n",
    "    print('\\Input loaded from :\\n    ' + path.rsplit(sep='/')[-1] + '_matrix.npy\\n    ' + path.rsplit(sep='/')[-1] + '_meta.npy' )\n",
    "    return sim\n",
    "\n",
    "\n"
   ]
  },
  {
   "cell_type": "markdown",
   "id": "a20bf1c1",
   "metadata": {},
   "source": [
    "## Testing utilities"
   ]
  },
  {
   "cell_type": "code",
   "execution_count": 26,
   "id": "780a0a98",
   "metadata": {},
   "outputs": [
    {
     "name": "stdout",
     "output_type": "stream",
     "text": [
      "[[-1.02258699  0.97077053  0.87667609  0.20542711  0.83710155]\n",
      " [ 0.12915532 -2.56739434  0.7325876   0.88000919  0.4762255 ]\n",
      " [ 0.18174102  0.40228965 -2.54944991  0.05375512  0.97694929]\n",
      " [ 0.54930351  0.77481661  0.40048426 -1.73384654  0.48824223]\n",
      " [ 0.16238715  0.41951756  0.53970197  0.59465512 -2.77851857]]\n"
     ]
    }
   ],
   "source": [
    "# Test 1 : testing DynamicRule\n",
    "dyn = DynamicRule(5)\n",
    "dyn.setMatrix(buildMatrix(5,'uni'))\n",
    "print(dyn.matrix)"
   ]
  },
  {
   "cell_type": "code",
   "execution_count": 27,
   "id": "6bd42251",
   "metadata": {},
   "outputs": [
    {
     "data": {
      "text/plain": [
       "[<matplotlib.lines.Line2D at 0x11644f970>]"
      ]
     },
     "execution_count": 27,
     "metadata": {},
     "output_type": "execute_result"
    },
    {
     "data": {
      "image/png": "[encoded data removed]",
      "text/plain": [
       "<Figure size 432x288 with 1 Axes>"
      ]
     },
     "metadata": {
      "needs_background": "light"
     },
     "output_type": "display_data"
    }
   ],
   "source": [
    "# Test 2 : testing Agent\n",
    "ag = Agent(10)\n",
    "ag.initialize()\n",
    "for i in range(20) :\n",
    "    ag.doStep()\n",
    "plt.plot(ag.transition_dates, ag.states)"
   ]
  },
  {
   "cell_type": "code",
   "execution_count": 28,
   "id": "7f929f8c",
   "metadata": {},
   "outputs": [
    {
     "data": {
      "image/png": "[encoded data removed]",
      "text/plain": [
       "<Figure size 432x288 with 1 Axes>"
      ]
     },
     "metadata": {
      "needs_background": "light"
     },
     "output_type": "display_data"
    }
   ],
   "source": [
    "# Test 3 : testing Simulation.run and Simulation.plotTrajectory\n",
    "sim = Simulation(10)\n",
    "sim.run()\n",
    "sim.plotTrajectory()"
   ]
  },
  {
   "cell_type": "code",
   "execution_count": 29,
   "id": "06adea70",
   "metadata": {},
   "outputs": [
    {
     "data": {
      "image/png": "[encoded data removed]",
      "text/plain": [
       "<Figure size 432x288 with 2 Axes>"
      ]
     },
     "metadata": {
      "needs_background": "light"
     },
     "output_type": "display_data"
    }
   ],
   "source": [
    "# Test 4 : testing Simulation.plotMatrix\n",
    "sim = Simulation(10)\n",
    "sim.plotMatrix()"
   ]
  },
  {
   "cell_type": "code",
   "execution_count": 108,
   "id": "6801aaa2",
   "metadata": {},
   "outputs": [
    {
     "data": {
      "image/png": "[encoded data removed]",
      "text/plain": [
       "<Figure size 432x288 with 2 Axes>"
      ]
     },
     "metadata": {
      "needs_background": "light"
     },
     "output_type": "display_data"
    },
    {
     "data": {
      "image/png": "[encoded data removed]",
      "text/plain": [
       "<Figure size 432x288 with 1 Axes>"
      ]
     },
     "metadata": {
      "needs_background": "light"
     },
     "output_type": "display_data"
    }
   ],
   "source": [
    "# Test 5 : testing Simulation.plotHistogram\n",
    "sim = Simulation(n_jumps=1000, n_states=100)\n",
    "sim.run()\n",
    "sim.plotMatrix()\n",
    "sim.plotHistogram()"
   ]
  },
  {
   "cell_type": "code",
   "execution_count": 31,
   "id": "b48431bf",
   "metadata": {},
   "outputs": [
    {
     "data": {
      "image/png": "[encoded data removed]",
      "text/plain": [
       "<Figure size 432x288 with 2 Axes>"
      ]
     },
     "metadata": {
      "needs_background": "light"
     },
     "output_type": "display_data"
    },
    {
     "data": {
      "image/png": "[encoded data removed]",
      "text/plain": [
       "<Figure size 432x288 with 1 Axes>"
      ]
     },
     "metadata": {
      "needs_background": "light"
     },
     "output_type": "display_data"
    }
   ],
   "source": [
    "# Test 6 : testing re-initialization of a dyamic\n",
    "sim = Simulation(n_jumps=1000, n_states=10)\n",
    "mat = buildMatrix(n_states = 10, type='bin')\n",
    "sim.ag.dynamic.setMatrix(mat)\n",
    "sim.run()\n",
    "sim.plotMatrix()\n",
    "sim.plotHistogram()"
   ]
  },
  {
   "cell_type": "code",
   "execution_count": 32,
   "id": "5e95956f",
   "metadata": {},
   "outputs": [
    {
     "data": {
      "image/png": "[encoded data removed]",
      "text/plain": [
       "<Figure size 432x288 with 2 Axes>"
      ]
     },
     "metadata": {
      "needs_background": "light"
     },
     "output_type": "display_data"
    },
    {
     "data": {
      "image/png": "[encoded data removed]",
      "text/plain": [
       "<Figure size 432x288 with 1 Axes>"
      ]
     },
     "metadata": {
      "needs_background": "light"
     },
     "output_type": "display_data"
    }
   ],
   "source": [
    "# Test 7 : testing different samplings of driving matrix\n",
    "sim = Simulation(n_jumps=1000, n_states=10)\n",
    "mat = buildMatrix(n_states = 10, type='pow')\n",
    "sim.ag.dynamic.setMatrix(mat)\n",
    "sim.run()\n",
    "sim.plotMatrix()\n",
    "sim.plotHistogram()"
   ]
  },
  {
   "cell_type": "code",
   "execution_count": 162,
   "id": "dedbde45",
   "metadata": {},
   "outputs": [
    {
     "data": {
      "image/png": "[encoded data removed]",
      "text/plain": [
       "<Figure size 432x288 with 2 Axes>"
      ]
     },
     "metadata": {
      "needs_background": "light"
     },
     "output_type": "display_data"
    },
    {
     "data": {
      "image/png": "[encoded data removed]",
      "text/plain": [
       "<Figure size 432x288 with 1 Axes>"
      ]
     },
     "metadata": {
      "needs_background": "light"
     },
     "output_type": "display_data"
    }
   ],
   "source": [
    "# Test 8 : testing SSR driving matrix and log-scale plotting\n",
    "sim = Simulation(n_jumps=10000, n_states=20)\n",
    "mat = buildMatrix(n_states = 20, type='ssr')\n",
    "sim.ag.dynamic.setMatrix(mat)\n",
    "sim.run()\n",
    "sim.plotMatrix()\n",
    "sim.plotHistogram(log=True)"
   ]
  },
  {
   "cell_type": "markdown",
   "id": "df7310a5",
   "metadata": {},
   "source": [
    "## Classical Bolztman-Gibbs equilibrium\n",
    "\n",
    "Here, an agent represents **the whole system** : it is considered at equilibrium and we only consider the **macrostates**.\n",
    "The transition rate from a state of energy $E$ to a state of energy $E'$ reads :\n",
    "$$J(E',E) \\propto \\mathrm{exp}\\left(-\\dfrac{E'-E}{k_{B}T}\\right)$$\n",
    "\n",
    "The typical energy $k_{B}T$ will be taken as 1.\n",
    "Likewise, we will map the states' index (ranging from `0` to `n_states-1` to the energy with a simple linear function `toEnergy`, without any consideration for the units at the moment :"
   ]
  },
  {
   "cell_type": "code",
   "execution_count": 35,
   "id": "3a2ac1fd",
   "metadata": {},
   "outputs": [],
   "source": [
    "def toEnergy(index) :\n",
    "    return float(index+1.)"
   ]
  },
  {
   "cell_type": "markdown",
   "id": "56a4a27d",
   "metadata": {},
   "source": [
    "This function might be used later.\n",
    "\n",
    "Then we can calculate the transition rate with the function `BG_rate` :"
   ]
  },
  {
   "cell_type": "code",
   "execution_count": 89,
   "id": "07e1bc6a",
   "metadata": {},
   "outputs": [],
   "source": [
    "def BG_rate(i,j) :\n",
    "    return np.exp(-float(i-j)/3)"
   ]
  },
  {
   "cell_type": "markdown",
   "id": "897288f9",
   "metadata": {},
   "source": [
    "This rate is used with the parameter `'BGe'` in the `buiildMatrix`function.\n",
    "\n",
    "\n",
    "\n",
    "It is important to note that here normalization is yet not important, since it is only the relative rates that will matter in `Agent.doStep`. Also, the function `buildMatrix` will insure this matrix is stochatic (the output of `BG_rate(i,i)` will be replaced)."
   ]
  },
  {
   "cell_type": "markdown",
   "id": "027c8576",
   "metadata": {},
   "source": [
    "### Simulation\n",
    "\n",
    "Here is an attempt to simulate a Boltzmann-Gibbs equilibrium :"
   ]
  },
  {
   "cell_type": "code",
   "execution_count": 90,
   "id": "c4a76c78",
   "metadata": {},
   "outputs": [
    {
     "data": {
      "image/png": "[encoded data removed]",
      "text/plain": [
       "<Figure size 432x288 with 2 Axes>"
      ]
     },
     "metadata": {
      "needs_background": "light"
     },
     "output_type": "display_data"
    },
    {
     "data": {
      "image/png": "[encoded data removed]",
      "text/plain": [
       "<Figure size 432x288 with 1 Axes>"
      ]
     },
     "metadata": {
      "needs_background": "light"
     },
     "output_type": "display_data"
    }
   ],
   "source": [
    "# Test 9 : testing Boltzman-Gibbs matrix\n",
    "#\n",
    "# DOESN'T WORK --> SEE STATPHYS' COURSE\n",
    "#\n",
    "#\n",
    "n_sts=15\n",
    "sim = Simulation(n_jumps=10000, n_states=n_sts)\n",
    "mat = buildMatrix(n_states=n_sts, type='BGe')\n",
    "sim.ag.dynamic.setMatrix(mat)\n",
    "sim.run()\n",
    "sim.plotMatrix()\n",
    "sim.plotHistogram(log=False)"
   ]
  },
  {
   "cell_type": "markdown",
   "id": "e61f8f3e",
   "metadata": {},
   "source": [
    "## Bouchaud-Mézard dynamic\n",
    "\n",
    "We now consider **out-of-equilibirum systems**, where an agent is a single particle and we consider the **microstates**.\n",
    "\n",
    "*Work to do*"
   ]
  },
  {
   "cell_type": "code",
   "execution_count": null,
   "id": "dca49c1c",
   "metadata": {},
   "outputs": [],
   "source": []
  },
  {
   "cell_type": "code",
   "execution_count": null,
   "id": "c92d3430",
   "metadata": {},
   "outputs": [],
   "source": []
  },
  {
   "cell_type": "code",
   "execution_count": null,
   "id": "4b4dcae6",
   "metadata": {},
   "outputs": [],
   "source": []
  },
  {
   "cell_type": "code",
   "execution_count": null,
   "id": "96e31b91",
   "metadata": {},
   "outputs": [],
   "source": [
    "# Test 10 : Bouchaud-Mézard dynamic\n",
    "#\n",
    "#\n",
    "# TO DO\n",
    "#\n",
    "#"
   ]
  },
  {
   "cell_type": "markdown",
   "id": "86e857b6",
   "metadata": {},
   "source": [
    "## Sample-Space Reducing dynamic (SSR)\n",
    "\n",
    "A classical SSR system (which can be found in [05]) is defined by particular transition rates :\n",
    "$$ J(i,j) = \\left\\lbrace \\begin{array}{ll} 0 \\text{ if } i >= j \\\\ \\frac{1}{j-1} \\text{ if } i < j \\\\ 1 \\text{ if } i=N \\text{ and } j=0 \\end{array} \\right.$$\n",
    "\n",
    "The transition matrix for such a system looks like the following :"
   ]
  },
  {
   "cell_type": "code",
   "execution_count": 163,
   "id": "27836b80",
   "metadata": {},
   "outputs": [
    {
     "data": {
      "image/png": "[encoded data removed]",
      "text/plain": [
       "<Figure size 432x288 with 2 Axes>"
      ]
     },
     "metadata": {
      "needs_background": "light"
     },
     "output_type": "display_data"
    }
   ],
   "source": [
    "sim = Simulation(n_jumps=10000, n_states=15)\n",
    "mat = buildMatrix(n_states = 15, type='ssr')\n",
    "sim.ag.dynamic.setMatrix(mat)\n",
    "sim.plotMatrix()"
   ]
  },
  {
   "cell_type": "markdown",
   "id": "5790ef47",
   "metadata": {},
   "source": [
    "The distribution obtained with this process is a power-law :"
   ]
  },
  {
   "cell_type": "code",
   "execution_count": 164,
   "id": "720f0121",
   "metadata": {},
   "outputs": [
    {
     "data": {
      "image/png": "[encoded data removed]",
      "text/plain": [
       "<Figure size 432x288 with 1 Axes>"
      ]
     },
     "metadata": {
      "needs_background": "light"
     },
     "output_type": "display_data"
    }
   ],
   "source": [
    "sim.run()\n",
    "sim.plotHistogram()"
   ]
  },
  {
   "cell_type": "markdown",
   "id": "0f2f92c9",
   "metadata": {},
   "source": [
    "... or in log-scale :"
   ]
  },
  {
   "cell_type": "code",
   "execution_count": 165,
   "id": "1194160d",
   "metadata": {},
   "outputs": [
    {
     "data": {
      "image/png": "[encoded data removed]",
      "text/plain": [
       "<Figure size 432x288 with 1 Axes>"
      ]
     },
     "metadata": {
      "needs_background": "light"
     },
     "output_type": "display_data"
    }
   ],
   "source": [
    "sim.plotHistogram(log=True)"
   ]
  },
  {
   "cell_type": "raw",
   "id": "c8d33c51",
   "metadata": {},
   "source": []
  }
 ],
 "metadata": {
  "kernelspec": {
   "display_name": "Python 3 (ipykernel)",
   "language": "python",
   "name": "python3"
  },
  "language_info": {
   "codemirror_mode": {
    "name": "ipython",
    "version": 3
   },
   "file_extension": ".py",
   "mimetype": "text/x-python",
   "name": "python",
   "nbconvert_exporter": "python",
   "pygments_lexer": "ipython3",
   "version": "3.10.0"
  }
 },
 "nbformat": 4,
 "nbformat_minor": 5
}
