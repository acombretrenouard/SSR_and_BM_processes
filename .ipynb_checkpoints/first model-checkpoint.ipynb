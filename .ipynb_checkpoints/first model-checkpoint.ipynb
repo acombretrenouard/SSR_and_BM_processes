{
 "cells": [
  {
   "cell_type": "markdown",
   "id": "b58a6795",
   "metadata": {},
   "source": [
    "# First Model\n",
    "\n",
    "The goal here is to model an agent following a stochastic or non-stochastic dynamic within a phase space of `n_states`states.\n",
    "The code should be able to :\n",
    "* simulate a trajectory within the phase-space,\n",
    "* calculate the occupancy distribution of each state,\n",
    "* simulate multiple particle,\n",
    "\n",
    "It should also support some basic features, such as :\n",
    "\n",
    "* saving, loading the results of a simulation,\n",
    "* run multiple simulations from an input file,\n",
    "* basic plotting and handling capabilities to have a user-friendly interface."
   ]
  },
  {
   "cell_type": "markdown",
   "id": "285b4856",
   "metadata": {},
   "source": [
    "## Imports"
   ]
  },
  {
   "cell_type": "code",
   "execution_count": 2,
   "id": "ed86fdab",
   "metadata": {},
   "outputs": [],
   "source": [
    "import numpy as np\n",
    "import matplotlib.pyplot as plt\n",
    "from mpl_toolkits.axes_grid1 import make_axes_locatable # for plt.colorbar axes positionning\n",
    "import os\n",
    "import matplotlib.animation as animation\n",
    "import time # to add sleeping time for test purpose"
   ]
  },
  {
   "cell_type": "markdown",
   "id": "38e44e22",
   "metadata": {},
   "source": [
    "## Implementing the dynamics of the system\n",
    "\n",
    "The dynamic of our agent is markovian : it only depends on its current state. The way it behave depends of the transition rates from a state `i` to a state `j`, and is probabilistic. The first step is to establish these rates, with a matrix.\n",
    "\n",
    "This is the purpose of the object `DynamicalRule`. It stores :\n",
    "- the number of state (`int`) : `n_states`,\n",
    "- the transition matrix (`ndarray`) : `matrix`,\n",
    "- WRONG the starting state (`int`) : `start_state`,\n",
    "- WRONG the current date (`float`) : `date`.\n",
    "\n",
    "The method `DynamicalRule.setMatrix` allows to **input** the desired transition matrix.\n",
    "\n",
    "\n",
    "*Remark : this class could be merged with `Simulation`.*"
   ]
  },
  {
   "cell_type": "code",
   "execution_count": 3,
   "id": "a272e460",
   "metadata": {},
   "outputs": [],
   "source": [
    "class DynamicRule:\n",
    "    \"\"\"a class that describe the dynamic rule of a simple dicrete-state system\"\"\"\n",
    "    \n",
    "    def __init__(self, n_states) :\n",
    "        \"\"\"input : number of state the dynamic should include (size of the matrix)\"\"\"\n",
    "        self.n_states = n_states\n",
    "        self.matrix = np.zeros((n_states,n_states), dtype=float)\n",
    "        self.start_state = 0\n",
    "        self.date = 0.\n",
    "        return\n",
    "\n",
    "\n",
    "    def setMatrix(self, matrix) :\n",
    "        if np.shape(matrix)[0] == self.n_states :\n",
    "            self.matrix = matrix\n",
    "        else :\n",
    "            print('DynamicRule.setMatrix ERROR : input matrix of wrong size.\\nMatrix left unchanged.')\n",
    "        return"
   ]
  },
  {
   "cell_type": "markdown",
   "id": "d63510a0",
   "metadata": {},
   "source": [
    "## Implementing an agent :\n",
    "\n",
    "The agent will be represented by the class `Agent`.\n",
    "It stores :\n",
    "- a `DynamicRule` object that defines the dynamical rule this agent follows : `Agent.dynamic`,\n",
    "- a state in which the agent is (`int`) : `Agent.state`,\n",
    "- the list of all previous states (`list`) : `Agent.states`,\n",
    "- the dates of all transitions from one state to another (`list`) : `Agent.transition_dates`.\n",
    "\n",
    "The methods `doStep` advances the agent to the next step it will transition to, and calculate the time it will take to jump (these two values follow a precise probability).\n",
    "The methods `initialize` is useless."
   ]
  },
  {
   "cell_type": "code",
   "execution_count": 4,
   "id": "c6dfb7ba",
   "metadata": {},
   "outputs": [],
   "source": [
    "class Agent:\n",
    "    \"\"\"a class that simulates an agent that evolves accordingly to the markovian dynamic defined by DynamicalRule\"\"\"\n",
    "\n",
    "    def __init__(self, n_states) :\n",
    "        \"\"\"input : number of states modeled by the dynamic\"\"\"\n",
    "        self.dynamic = DynamicRule(n_states)\n",
    "        self.state = self.dynamic.start_state\n",
    "        self.states = [self.state]\n",
    "        self.transition_dates = [0.0]\n",
    "        return\n",
    "\n",
    "    def initialize(self) :\n",
    "        \"\"\"creates the matrix of the dynamic rule\n",
    "        USELESS\"\"\"\n",
    "        mat = buildMatrix(self.dynamic.n_states, 'uni')\n",
    "        self.dynamic.setMatrix(mat)\n",
    "        return\n",
    "\n",
    "    def doStep(self) :\n",
    "        \"\"\"samples the next state, then sample the time it will take to jump\n",
    "        works also when some coefficient are null\"\"\"\n",
    "        # creating a probability distribution from the rates\n",
    "        rates = list(self.dynamic.matrix[:,self.state])\n",
    "        rates.pop(self.state) # taking the lists of rate(i,i0) only when i != i0\n",
    "        if np.sum(rates) == 0. : # if this state is unescapable\n",
    "            self.states.append(self.state)\n",
    "            self.dynamic.date += 1.\n",
    "            self.transition_dates.append(self.dynamic.date)\n",
    "        else :\n",
    "            probs = rates/np.sum(rates)\n",
    "            # calculate what will be the next state\n",
    "            ind = np.argwhere(np.random.multinomial(1,probs))[0,0]\n",
    "            if self.state <= ind :\n",
    "                self.state = ind+1\n",
    "            else :\n",
    "                self.state = ind\n",
    "            self.states.append(self.state)\n",
    "            # calculate the time of the transition to that state\n",
    "            delta = np.random.exponential(rates[ind])\n",
    "            self.dynamic.date += delta\n",
    "            self.transition_dates.append(self.dynamic.date)\n",
    "        return"
   ]
  },
  {
   "cell_type": "markdown",
   "id": "7522d5e5",
   "metadata": {},
   "source": [
    "## Simulation bench\n",
    "\n",
    "*insert description*"
   ]
  },
  {
   "cell_type": "code",
   "execution_count": 5,
   "id": "6b2db18d",
   "metadata": {},
   "outputs": [],
   "source": [
    "class Simulation:\n",
    "\n",
    "    def __init__(self, n_jumps = 20, n_states = 5) :\n",
    "        \"\"\"data and metadata format :\n",
    "        meta = [start state, number of jumps that will be simulated]\n",
    "        data = [[t0=0   , t1     , t2     , ..., t_n    ],\n",
    "                [state_0, state_1, state_2, ..., state_n]]\n",
    "        ! Simulation.ag.dynamic.matrix is also part of the metadata !\"\"\"\n",
    "        self.ag = Agent(n_states)\n",
    "        self.ag.initialize()\n",
    "        self.meta = np.array([0, n_jumps]) # start state and desired length of simulation (in jumps)\n",
    "        self.data = np.zeros((2, n_jumps))\n",
    "        return\n",
    "\n",
    "    def run(self) :\n",
    "        \"\"\"runs the simulation for the indicated number of jumps\"\"\"\n",
    "        n_jumps = self.meta[1]\n",
    "        for i in range(n_jumps) :\n",
    "            self.ag.doStep()\n",
    "        self.data = np.array([self.ag.transition_dates, self.ag.states])\n",
    "        return\n",
    "\n",
    "    def plotHistogram(self, log=False) :\n",
    "        \"\"\"plot the histogram of occupancy in each state\n",
    "        log=True for log-scale\"\"\"\n",
    "        # goes through the trajectory of the system and adds the trappig time at each step to the right bin\n",
    "        hist = np.zeros(self.ag.dynamic.n_states)\n",
    "        current_s = int(self.data[1,0])\n",
    "        for i in range(1,len(self.data[0])) :\n",
    "            hist[current_s] += self.data[0,i]-self.data[0,i-1]\n",
    "            current_s = int(self.data[1,i])\n",
    "        # normalizing\n",
    "        hist = hist/np.sum(hist)\n",
    "        # handling (log) scale\n",
    "        Xs = np.arange(self.ag.dynamic.n_states)\n",
    "        wdth = np.zeros(self.ag.dynamic.n_states)+0.3\n",
    "        if log :\n",
    "            Xs += 1\n",
    "            plt.xscale('log')\n",
    "            plt.yscale('log')\n",
    "            wdth = 0.05*Xs\n",
    "        # plotting\n",
    "        plt.bar(Xs, hist, width=wdth)\n",
    "        plt.xlabel('state')\n",
    "        plt.ylabel('relative time spent')\n",
    "        # placing ticks on axes\n",
    "        if self.ag.dynamic.n_states and not log <= 15 :\n",
    "            plt.xticks(Xs)\n",
    "        # setting an eventual log scale\n",
    "        plt.show()\n",
    "        return\n",
    "\n",
    "\n",
    "    def plotTrajectory(self) :\n",
    "        \"\"\"plots the trajectory of the system over the phase space\"\"\"\n",
    "        # building additionnal points (state just before each jump)\n",
    "        l = len(self.data[0])\n",
    "        Xs = np.zeros(2*l)\n",
    "        Ys = np.zeros(2*l)\n",
    "        for i in range(l-1) :\n",
    "            Xs[2*i], Xs[2*i+1] = self.data[0,i], self.data[0,i+1]\n",
    "            Ys[2*i], Ys[2*i+1] = self.data[1,i], self.data[1,i]\n",
    "        i = l-1\n",
    "        Xs[2*i], Xs[2*i+1] = self.data[0,i], self.data[0,i]*1.05\n",
    "        Ys[2*i], Ys[2*i+1] = self.data[1,i], self.data[1,i]\n",
    "        # plotting\n",
    "        plt.plot(Xs, Ys)\n",
    "        plt.xlabel('time')\n",
    "        plt.ylabel('states')\n",
    "        plt.text(0.9*np.amax(Xs), 0.9*np.amax(Ys), str(int(l-1)) + ' jumps')\n",
    "        plt.grid(axis='y')\n",
    "        plt.yticks(np.arange(self.ag.dynamic.n_states))\n",
    "        plt.show()\n",
    "        return\n",
    "\n",
    "    def plotMatrix(self) :\n",
    "        \"\"\"plots the driving matrix of the simulation as a colormap\"\"\"\n",
    "        # show matrix\n",
    "        ax = plt.subplot()\n",
    "        im = ax.matshow(self.ag.dynamic.matrix)\n",
    "        # set colorbar (scale) next to matrix\n",
    "        divider = make_axes_locatable(ax)\n",
    "        cax = divider.append_axes(\"right\", size=\"5%\", pad=0.05)\n",
    "        plt.colorbar(im, cax=cax)\n",
    "        # show\n",
    "        plt.show()\n",
    "        return\n",
    "\n",
    "    def live(self) :\n",
    "        \"\"\"runs the simulation live (interactively)\"\"\"\n",
    "        pass\n",
    "\n",
    "\n",
    "\n",
    "    def saveSim(self, path) :\n",
    "        \"\"\"saves the data, the metadata and the matrix to the path\"\"\"\n",
    "        # getting path\n",
    "        if path == None :\n",
    "            current = os.getcwd()\n",
    "            print('Current directory : ' + current)\n",
    "            path = str(input('\\nEnter path+filename : '))\n",
    "        # saving\n",
    "        np.save(path + '_data', self.data)\n",
    "        np.save(path + '_matrix', self.ag.dynamic.matrix)\n",
    "        np.save(path + '_meta', self.meta)\n",
    "        print('\\Sim saved as :\\n    ' + path.rsplit(sep='/')[-1] + '_data.npy\\n    '+ path.rsplit(sep='/')[-1] + '_matrix.npy\\n    ' + path.rsplit(sep='/')[-1] + '_meta.npy' )\n",
    "\n",
    "        return\n",
    "\n",
    "    def saveInput(self, inpt, path=None) :\n",
    "        \"\"\"saves only the matrix and the metadata\"\"\"\n",
    "        # getting path\n",
    "        if path == None :\n",
    "            current = os.getcwd()\n",
    "            print('Current directory : ' + current)\n",
    "            path = str(input('\\nEnter path+filename : '))\n",
    "        # saving\n",
    "        np.save(path + '_matrix', self.ag.dynamic.matrix)\n",
    "        np.save(path\n",
    "            + '_meta', self.meta)\n",
    "        print('\\Input saved as :\\n    ' + path.rsplit(sep='/')[-1] + '_matrix.npy\\n    ' + path.rsplit(sep='/')[-1] + '_meta.npy' )\n",
    "        return"
   ]
  },
  {
   "cell_type": "markdown",
   "id": "69eba11e",
   "metadata": {},
   "source": [
    "## Utilities\n",
    "\n",
    "Some utility function that can exist outside the previous classes :\n",
    "- `buildMatrix` builds transition matrix corresponding to the desired dynamic (random matrices, SSR...),\n",
    "- `loadSim` returns a `Simulation` object from a set of file storing the input *and* data,\n",
    "- `loadInput` returns a `Simulation` object from a set of file describing the input (matrix and metadata)."
   ]
  },
  {
   "cell_type": "code",
   "execution_count": 6,
   "id": "0881a7a5",
   "metadata": {},
   "outputs": [],
   "source": [
    "def buildMatrix(n_states, type='uni') :\n",
    "    \"\"\"builds a stochastic matrix, each coefficient is drawn randomly\n",
    "        uni --> uniformly in [0, 1[\n",
    "        mfd --> mean field (all coef. equal to 1/n_states)\n",
    "        bin --> binomial (1 sample)\n",
    "        pow --> power-tail law (Pareto here)\n",
    "        nrm --> normal law\n",
    "        ssr --> ssr process (with state no <-> energy)\n",
    "        BGe --> Boltzmann-Gibbs equilibrium\"\"\"\n",
    "    matrix = np.zeros((n_states,n_states), dtype=float)\n",
    "    if type=='ssr' :\n",
    "        for j in range(2,n_states) :\n",
    "            for i in range(j) : # coefficients are non-zero only if i<j\n",
    "                matrix[i,j] = 1/(j-1)\n",
    "        matrix[-1,0] = 1\n",
    "        matrix[0,1] = 1\n",
    "    else :\n",
    "        for j in range(n_states) :\n",
    "            s = 0\n",
    "            for i in range(n_states) :\n",
    "                if   type=='mfd' : rate = 1./n_states\n",
    "                elif type=='uni' : rate = np.random.uniform()\n",
    "                elif type=='bin' : rate = np.random.binomial(1,0.5)\n",
    "                elif type=='pow' : rate = np.random.pareto(0.5)\n",
    "                elif type=='nrm' : rate = np.abs(np.random.normal()) # ! the coefficients must be postive !\n",
    "                elif type=='BGe' : rate = BG_rate(i,j)\n",
    "                else :\n",
    "                    print('DynamicalRule.initialize ERROR : unknown distribution\\n Reminder :\\n    uni --> uniformly in [0, 1[\\n    bin --> binomial (1 sample)\\n    pow --> power-tail law (Pareto here)\\n    nrm --> normal law')\n",
    "                    rate = np.random.uniform()\n",
    "                matrix[i,j] = rate\n",
    "                if i != j : s += rate\n",
    "            matrix[j,j] = - s # s is the sum of all other transition rates : the matrix is thus stochastic\n",
    "    return matrix\n",
    "\n",
    "\n",
    "def loadSim(path=None) :\n",
    "    \"\"\"load a full simulation and returns the object\"\"\"\n",
    "    # getting path\n",
    "    if path == None :\n",
    "        current = os.getcwd()\n",
    "        print('Current directory : ' + current)\n",
    "        path = str(input('\\nEnter path+filename : '))\n",
    "    # loading\n",
    "    data = np.load(path + '_data')\n",
    "    matrix = np.load(path + '_matrix')\n",
    "    meta = np.load(path + '_meta')\n",
    "    start_state, n_jumps = int(meta[0]), int(meta[1])\n",
    "    n_states = np.shape(matrix)[0]\n",
    "    sim = Simulation(n_jumps, n_states)\n",
    "    sim.ag.dynamic.setMatrix(matrix)\n",
    "    sim.data = data\n",
    "    sim.meta = meta\n",
    "    print('\\Sim loaded from :\\n    ' + path.rsplit(sep='/')[-1] + '_data.npy\\n'  + path.rsplit(sep='/')[-1] + '_matrix.npy\\n    ' + path.rsplit(sep='/')[-1] + '_meta.npy' )\n",
    "\n",
    "    return sim\n",
    "\n",
    "def loadInput(path=None) :\n",
    "    # getting path\n",
    "    if path == None :\n",
    "        current = os.getcwd()\n",
    "        print('Current directory : ' + current)\n",
    "        path = str(input('\\nEnter path+filename : '))\n",
    "    # loading\n",
    "    matrix = np.load(path + '_matrix')\n",
    "    meta = np.load(path + '_meta')\n",
    "    start_state, n_jumps = int(meta[0]), int(meta[1])\n",
    "    n_states = np.shape(matrix)[0]\n",
    "    sim = Simulation(n_jumps, n_states)\n",
    "    sim.ag.dynamic.setMatrix(matrix)\n",
    "    sim.meta = meta\n",
    "    print('\\Input loaded from :\\n    ' + path.rsplit(sep='/')[-1] + '_matrix.npy\\n    ' + path.rsplit(sep='/')[-1] + '_meta.npy' )\n",
    "    return sim\n",
    "\n",
    "\n"
   ]
  },
  {
   "cell_type": "markdown",
   "id": "a20bf1c1",
   "metadata": {},
   "source": [
    "## Testing utilities"
   ]
  },
  {
   "cell_type": "code",
   "execution_count": 7,
   "id": "780a0a98",
   "metadata": {},
   "outputs": [
    {
     "name": "stdout",
     "output_type": "stream",
     "text": [
      "[[-2.5970467   0.15189682  0.74366461  0.8271584   0.51338006]\n",
      " [ 0.47277191 -1.62198315  0.67946335  0.70161308  0.76637724]\n",
      " [ 0.76399749  0.19344801 -2.65325218  0.87054432  0.54495867]\n",
      " [ 0.6381911   0.58443271  0.29029301 -2.6939078   0.69356935]\n",
      " [ 0.72208621  0.69220561  0.93983121  0.294592   -2.51828533]]\n"
     ]
    }
   ],
   "source": [
    "# Test 1 : testing DynamicRule\n",
    "dyn = DynamicRule(5)\n",
    "dyn.setMatrix(buildMatrix(5,'uni'))\n",
    "print(dyn.matrix)"
   ]
  },
  {
   "cell_type": "code",
   "execution_count": 8,
   "id": "6bd42251",
   "metadata": {},
   "outputs": [
    {
     "data": {
      "text/plain": [
       "[<matplotlib.lines.Line2D at 0x10cac6f80>]"
      ]
     },
     "execution_count": 8,
     "metadata": {},
     "output_type": "execute_result"
    },
    {
     "data": {
      "image/png": "[encoded data removed]",
      "text/plain": [
       "<Figure size 432x288 with 1 Axes>"
      ]
     },
     "metadata": {
      "needs_background": "light"
     },
     "output_type": "display_data"
    }
   ],
   "source": [
    "# Test 2 : testing Agent\n",
    "ag = Agent(10)\n",
    "ag.initialize()\n",
    "for i in range(20) :\n",
    "    ag.doStep()\n",
    "plt.plot(ag.transition_dates, ag.states)"
   ]
  },
  {
   "cell_type": "code",
   "execution_count": 9,
   "id": "7f929f8c",
   "metadata": {},
   "outputs": [
    {
     "data": {
      "image/png": "[encoded data removed]",
      "text/plain": [
       "<Figure size 432x288 with 1 Axes>"
      ]
     },
     "metadata": {
      "needs_background": "light"
     },
     "output_type": "display_data"
    }
   ],
   "source": [
    "# Test 3 : testing Simulation.run and Simulation.plotTrajectory\n",
    "sim = Simulation(10)\n",
    "sim.run()\n",
    "sim.plotTrajectory()"
   ]
  },
  {
   "cell_type": "code",
   "execution_count": 10,
   "id": "06adea70",
   "metadata": {},
   "outputs": [
    {
     "data": {
      "image/png": "[encoded data removed]",
      "text/plain": [
       "<Figure size 432x288 with 2 Axes>"
      ]
     },
     "metadata": {
      "needs_background": "light"
     },
     "output_type": "display_data"
    }
   ],
   "source": [
    "# Test 4 : testing Simulation.plotMatrix\n",
    "sim = Simulation(10)\n",
    "sim.plotMatrix()"
   ]
  },
  {
   "cell_type": "code",
   "execution_count": 11,
   "id": "6801aaa2",
   "metadata": {},
   "outputs": [
    {
     "data": {
      "image/png": "[encoded data removed]",
      "text/plain": [
       "<Figure size 432x288 with 2 Axes>"
      ]
     },
     "metadata": {
      "needs_background": "light"
     },
     "output_type": "display_data"
    },
    {
     "data": {
      "image/png": "[encoded data removed]",
      "text/plain": [
       "<Figure size 432x288 with 1 Axes>"
      ]
     },
     "metadata": {
      "needs_background": "light"
     },
     "output_type": "display_data"
    }
   ],
   "source": [
    "# Test 5 : testing Simulation.plotHistogram\n",
    "sim = Simulation(n_jumps=1000, n_states=100)\n",
    "sim.run()\n",
    "sim.plotMatrix()\n",
    "sim.plotHistogram()"
   ]
  },
  {
   "cell_type": "code",
   "execution_count": 12,
   "id": "b48431bf",
   "metadata": {},
   "outputs": [
    {
     "data": {
      "image/png": "[encoded data removed]",
      "text/plain": [
       "<Figure size 432x288 with 2 Axes>"
      ]
     },
     "metadata": {
      "needs_background": "light"
     },
     "output_type": "display_data"
    },
    {
     "data": {
      "image/png": "[encoded data removed]",
      "text/plain": [
       "<Figure size 432x288 with 1 Axes>"
      ]
     },
     "metadata": {
      "needs_background": "light"
     },
     "output_type": "display_data"
    }
   ],
   "source": [
    "# Test 6 : testing re-initialization of a dyamic\n",
    "sim = Simulation(n_jumps=1000, n_states=10)\n",
    "mat = buildMatrix(n_states = 10, type='bin')\n",
    "sim.ag.dynamic.setMatrix(mat)\n",
    "sim.run()\n",
    "sim.plotMatrix()\n",
    "sim.plotHistogram()"
   ]
  },
  {
   "cell_type": "code",
   "execution_count": 13,
   "id": "5e95956f",
   "metadata": {},
   "outputs": [
    {
     "data": {
      "image/png": "[encoded data removed]",
      "text/plain": [
       "<Figure size 432x288 with 2 Axes>"
      ]
     },
     "metadata": {
      "needs_background": "light"
     },
     "output_type": "display_data"
    },
    {
     "data": {
      "image/png": "[encoded data removed]",
      "text/plain": [
       "<Figure size 432x288 with 1 Axes>"
      ]
     },
     "metadata": {
      "needs_background": "light"
     },
     "output_type": "display_data"
    }
   ],
   "source": [
    "# Test 7 : testing different samplings of driving matrix\n",
    "sim = Simulation(n_jumps=1000, n_states=10)\n",
    "mat = buildMatrix(n_states = 10, type='pow')\n",
    "sim.ag.dynamic.setMatrix(mat)\n",
    "sim.run()\n",
    "sim.plotMatrix()\n",
    "sim.plotHistogram()"
   ]
  },
  {
   "cell_type": "code",
   "execution_count": 14,
   "id": "6c928880",
   "metadata": {},
   "outputs": [
    {
     "data": {
      "image/png": "[encoded data removed]",
      "text/plain": [
       "<Figure size 432x288 with 2 Axes>"
      ]
     },
     "metadata": {
      "needs_background": "light"
     },
     "output_type": "display_data"
    },
    {
     "data": {
      "image/png": "[encoded data removed]",
      "text/plain": [
       "<Figure size 432x288 with 1 Axes>"
      ]
     },
     "metadata": {
      "needs_background": "light"
     },
     "output_type": "display_data"
    }
   ],
   "source": [
    "# Test 8 : testing SSR driving matrix and log-scale plotting\n",
    "sim = Simulation(n_jumps=10000, n_states=10)\n",
    "mat = buildMatrix(n_states = 10, type='ssr')\n",
    "sim.ag.dynamic.setMatrix(mat)\n",
    "sim.run()\n",
    "sim.plotMatrix()\n",
    "sim.plotHistogram(log=True)"
   ]
  },
  {
   "cell_type": "markdown",
   "id": "c74bddd7",
   "metadata": {},
   "source": [
    "## Classical Bolztman-Gibbs equilibrium\n",
    "\n",
    "Here, an agent represents **the whole system** : it is considered at equilibrium and we only consider the **macrostates**.\n",
    "The transition rate from a state of energy $E$ to a state of energy $E'$ reads :\n",
    "$$J(E',E) \\propto \\mathrm{exp}\\left(-\\dfrac{E'-E}{k_{B}T}\\right)$$\n",
    "\n",
    "The typical energy $k_{B}T$ will be taken as 1.\n",
    "Likewise, we will map the states' index (ranging from `0` to `n_states-1` to the energy with a simple linear function `toEnergy`, without any consideration for the units at the moment :"
   ]
  },
  {
   "cell_type": "code",
   "execution_count": 15,
   "id": "e51f0fbc",
   "metadata": {},
   "outputs": [],
   "source": [
    "def toEnergy(index) :\n",
    "    return float(index+1.)"
   ]
  },
  {
   "cell_type": "markdown",
   "id": "806cd20a",
   "metadata": {},
   "source": [
    "This function might be used later.\n",
    "\n",
    "Then we can calculate the transition rate with the function `BG_rate` :"
   ]
  },
  {
   "cell_type": "code",
   "execution_count": 16,
   "id": "c350a362",
   "metadata": {},
   "outputs": [],
   "source": [
    "def BG_rate(i,j) :\n",
    "    return np.exp(-float(i-j)/1.2)"
   ]
  },
  {
   "cell_type": "markdown",
   "id": "a43ac8a0",
   "metadata": {},
   "source": [
    "This rate is used with the parameter `'BGe'` in the `buiildMatrix`function.\n",
    "\n",
    "\n",
    "\n",
    "It is important to note that here normalization is yet not important, since it is only the relative rates that will matter in `Agent.doStep`. Also, the function `buildMatrix` will insure this matrix is stochatic (the output of `BG_rate(i,i)` will be replaced)."
   ]
  },
  {
   "cell_type": "markdown",
   "id": "48b63dd7",
   "metadata": {},
   "source": [
    "### Simulation\n",
    "\n",
    "Here is an attempt to simulate a Boltzmann-Gibbs equilibrium :"
   ]
  },
  {
   "cell_type": "code",
   "execution_count": 17,
   "id": "063ddb90",
   "metadata": {},
   "outputs": [
    {
     "data": {
      "image/png": "[encoded data removed]",
      "text/plain": [
       "<Figure size 432x288 with 2 Axes>"
      ]
     },
     "metadata": {
      "needs_background": "light"
     },
     "output_type": "display_data"
    },
    {
     "data": {
      "image/png": "[encoded data removed]",
      "text/plain": [
       "<Figure size 432x288 with 1 Axes>"
      ]
     },
     "metadata": {
      "needs_background": "light"
     },
     "output_type": "display_data"
    }
   ],
   "source": [
    "# Test 9 : testing Boltzman-Gibbs matrix\n",
    "#\n",
    "# DOESN'T WORK --> SEE STATPHYS' COURSE\n",
    "#\n",
    "#\n",
    "n_sts=15\n",
    "sim = Simulation(n_jumps=10000, n_states=n_sts)\n",
    "mat = buildMatrix(n_states=n_sts, type='BGe')\n",
    "sim.ag.dynamic.setMatrix(mat)\n",
    "sim.run()\n",
    "sim.plotMatrix()\n",
    "sim.plotHistogram(log=False)"
   ]
  },
  {
   "cell_type": "markdown",
   "id": "22cab066",
   "metadata": {},
   "source": [
    "## Bouchaud-Mézard dynamic\n",
    "\n",
    "We now consider **out-of-equilibirum systems**, where an agent is a single particle and we consider the **microstates**.\n",
    "\n",
    "\n",
    "The BM model might not be doable in a 'single state' simulation since the state will be distributed on all possible ones due to noise (e.g. the state of the system is a superposition of a finite number of states, each with ist own probability).\n",
    "\n",
    "Ideas :\n",
    "- (grain) this non-integer state becomes secable if we introduce a minimal rate for the noise. Then, for timescals sufficiently small, the description of states as a single point (and not a distribution itself) might hold,\n",
    "- (space?) what is the 'shrinking sampling space' ? Is it the set of all agents (energy $\\propto$ wealth) ? Is it the wealth of the wealthiest (always increasing (?)) ? Is it the people related to an agent (people only talk to people richer than them : dissipation would be buying smth from someone richer than me, driving would be trade with ppl poorer than me)...?\n",
    "\n",
    "\n",
    "*Work to do : investigate last idea*"
   ]
  },
  {
   "cell_type": "markdown",
   "id": "68aee130",
   "metadata": {},
   "source": [
    "Lets first simulate a mean field model :"
   ]
  },
  {
   "cell_type": "code",
   "execution_count": 18,
   "id": "f857732f",
   "metadata": {},
   "outputs": [
    {
     "data": {
      "image/png": "[encoded data removed]",
      "text/plain": [
       "<Figure size 432x288 with 2 Axes>"
      ]
     },
     "metadata": {
      "needs_background": "light"
     },
     "output_type": "display_data"
    },
    {
     "data": {
      "image/png": "[encoded data removed]",
      "text/plain": [
       "<Figure size 432x288 with 1 Axes>"
      ]
     },
     "metadata": {
      "needs_background": "light"
     },
     "output_type": "display_data"
    }
   ],
   "source": [
    "n_sts = 15\n",
    "sim = Simulation(n_jumps=100000, n_states=n_sts)\n",
    "mat = buildMatrix(n_states=n_sts, type='mfd')\n",
    "sim.ag.dynamic.setMatrix(mat)\n",
    "sim.run()\n",
    "sim.plotMatrix()\n",
    "sim.plotHistogram()"
   ]
  },
  {
   "cell_type": "markdown",
   "id": "53878f3f",
   "metadata": {},
   "source": [
    "To simulate a BM model, we will use a simple numerical resolution without using our previous classes."
   ]
  },
  {
   "cell_type": "code",
   "execution_count": 19,
   "id": "8c3b5a9a",
   "metadata": {},
   "outputs": [
    {
     "data": {
      "image/png": "[encoded data removed]",
      "text/plain": [
       "<Figure size 432x288 with 1 Axes>"
      ]
     },
     "metadata": {
      "needs_background": "light"
     },
     "output_type": "display_data"
    }
   ],
   "source": [
    "# Test 10 : Bouchaud-Mézard dynamic\n",
    "#\n",
    "# declare variables (_anim suffix for globals)\n",
    "global mean_anim\n",
    "global sigma_anim\n",
    "global n_sts_anim\n",
    "global mat_anim\n",
    "global im_anim\n",
    "# assign variables and create image (im_anim)\n",
    "mean_anim = 0.1\n",
    "sigma_anim = 0.3\n",
    "n_sts_anim = 10\n",
    "mat_anim = buildMatrix(n_states=n_sts_anim, type='mfd')\n",
    "fig, ax = plt.subplots()\n",
    "im_anim = ax.matshow(mat_anim)\n",
    "# test\n",
    "diagnl = np.diag(np.random.normal(mean_anim, sigma_anim, n_sts_anim))\n",
    "im_anim.set_array(mat_anim + diagnl)\n",
    "# driving function\n",
    "def animate(frame_number):\n",
    "        # simulate new data coming in\n",
    "        global mean_anim\n",
    "        global sigma_anim\n",
    "        global n_sts_anim\n",
    "        global mat_anim\n",
    "        global im_anim\n",
    "        diagnl = np.diag(np.random.normal(mean_anim, sigma_anim, n_sts_anim))\n",
    "        im_anim.set_array(mat_anim + diagnl)\n",
    "        return im_anim,\n",
    "# display settings\n",
    "# set colorbar (scale) next to matrix\n",
    "#divider = make_axes_locatable(ax)\n",
    "#cax = divider.append_axes(\"right\", size=\"5%\", pad=0.05)\n",
    "#plt.colorbar(im_anim, cax=cax)\n",
    "# animate the plot\n",
    "#ani = animation.FuncAnimation(fig, animate, 50, repeat=True, blit=True)\n",
    "# show\n",
    "plt.show()"
   ]
  },
  {
   "cell_type": "markdown",
   "id": "fedfeec4",
   "metadata": {},
   "source": [
    "## Sample-Space Reducing dynamic (SSR)\n",
    "\n",
    "A classical SSR system (which can be found in [05]) is defined by particular transition rates :\n",
    "$$ J(i,j) = \\left\\lbrace \\begin{array}{ll} 0 \\text{ if } i >= j \\\\ \\frac{1}{j-1} \\text{ if } i < j \\\\ 1 \\text{ if } i=N \\text{ and } j=0 \\end{array} \\right.$$\n",
    "\n",
    "The transition matrix for such a system looks like the following :"
   ]
  },
  {
   "cell_type": "code",
   "execution_count": 20,
   "id": "d90d90ff",
   "metadata": {},
   "outputs": [
    {
     "data": {
      "image/png": "[encoded data removed]",
      "text/plain": [
       "<Figure size 432x288 with 2 Axes>"
      ]
     },
     "metadata": {
      "needs_background": "light"
     },
     "output_type": "display_data"
    }
   ],
   "source": [
    "nj=10000\n",
    "ns=100\n",
    "sim = Simulation(n_jumps=nj, n_states=ns)\n",
    "mat = buildMatrix(n_states=ns, type='ssr')\n",
    "sim.ag.dynamic.setMatrix(mat)\n",
    "sim.plotMatrix()"
   ]
  },
  {
   "cell_type": "markdown",
   "id": "4b3dcecb",
   "metadata": {},
   "source": [
    "The distribution obtained with this process is a power-law :"
   ]
  },
  {
   "cell_type": "code",
   "execution_count": 21,
   "id": "7e9814e7",
   "metadata": {},
   "outputs": [
    {
     "data": {
      "image/png": "[encoded data removed]",
      "text/plain": [
       "<Figure size 432x288 with 1 Axes>"
      ]
     },
     "metadata": {
      "needs_background": "light"
     },
     "output_type": "display_data"
    }
   ],
   "source": [
    "sim.run()\n",
    "sim.plotHistogram()"
   ]
  },
  {
   "cell_type": "markdown",
   "id": "d9ff51cc",
   "metadata": {},
   "source": [
    "... or in log-scale :"
   ]
  },
  {
   "cell_type": "code",
   "execution_count": 22,
   "id": "60bb8124",
   "metadata": {},
   "outputs": [
    {
     "data": {
      "image/png": "[encoded data removed]",
      "text/plain": [
       "<Figure size 432x288 with 1 Axes>"
      ]
     },
     "metadata": {
      "needs_background": "light"
     },
     "output_type": "display_data"
    }
   ],
   "source": [
    "sim.plotHistogram(log=True)"
   ]
  },
  {
   "cell_type": "raw",
   "id": "32644588",
   "metadata": {},
   "source": []
  },
  {
   "cell_type": "code",
   "execution_count": null,
   "id": "7daa3b51",
   "metadata": {},
   "outputs": [],
   "source": []
  },
  {
   "cell_type": "code",
   "execution_count": null,
   "id": "0d17a923",
   "metadata": {},
   "outputs": [],
   "source": []
  }
 ],
 "metadata": {
  "kernelspec": {
   "display_name": "Python 3 (ipykernel)",
   "language": "python",
   "name": "python3"
  },
  "language_info": {
   "codemirror_mode": {
    "name": "ipython",
    "version": 3
   },
   "file_extension": ".py",
   "mimetype": "text/x-python",
   "name": "python",
   "nbconvert_exporter": "python",
   "pygments_lexer": "ipython3",
   "version": "3.10.0"
  }
 },
 "nbformat": 4,
 "nbformat_minor": 5
}
